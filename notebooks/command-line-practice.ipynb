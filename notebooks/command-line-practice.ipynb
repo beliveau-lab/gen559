{
 "cells": [
  {
   "cell_type": "markdown",
   "metadata": {},
   "source": [
    "# Gen559 command line practice notebook\n",
    "### 2020.12.07"
   ]
  },
  {
   "cell_type": "markdown",
   "metadata": {},
   "source": [
    "### Practice problem 1 \n",
    "\n",
    "Create a command line script, *extract-SNVs.py* that takes in a .vcf file and returns a new .vcf file with SNV information. \n",
    "\n",
    "1. The user should specify the .vcf file and target chromosome using the command line. Your code should process this information using the **sys** module.\n",
    "  \n",
    "  \n",
    "2. Have your script write a new .vcf file as output.\n",
    "  \n",
    "  \n",
    "3. Also have your script print to the terminal a string in the following format, eg \"142 SNVs from chr12 were identified in my_file.vcf\":\n",
    "\n",
    "```python\n",
    "'<N> SNVs from <chrom> were identified in <file>'\n",
    "```\n",
    "\n",
    "4. Run your script on the *gm12878.hg38.vcf* specifying chromosomes 1, 5, X, 15, and 22. **Paste your terminal outputs in the cell below.**\n",
    "    \n",
    "    \n",
    "5. The code from our *get_distances()* is below, you can use this as a starting point.\n",
    "\n",
    "```python\n",
    "def get_distances(file, chrom):\n",
    "    '''Takes in name of vcf file, returns a list of distances between SNVs\n",
    "    from a specified chromosome'''\n",
    "    \n",
    "    ## Open input file for reading, parse out SNP coords as ints.\n",
    "    \n",
    "    # Open specified file.\n",
    "    with open(file, 'r') as f:\n",
    "        \n",
    "        # Create and populate a list of variant coordinates as integers. Skip header lines.\n",
    "        # Only consider line if length of 'REF' and 'ALT' both = 1, i.e. the\n",
    "        # line describes a SNV.\n",
    "        coords = [int(line.strip().split('\\t')[1]) for line in f \\\n",
    "        if line.strip().split(\"\\t\")[0][0]!='#' \\\n",
    "        and line.strip().split(\"\\t\")[0] == chrom \\\n",
    "        and len(line.strip().split(\"\\t\")[3]) == 1 \\\n",
    "        and len(line.strip().split(\"\\t\")[4]) == 1]\n",
    "\n",
    "    # Make list to hold output.\n",
    "    out_distances = []\n",
    "\n",
    "    # Iterate through file data, add distances to list where appropriate.\n",
    "    for i in range(0, len(coords)-1, 1):\n",
    "        out_distances.append((coords[i+1])-coords[i])\n",
    "\n",
    "    # Return list of distances.\n",
    "    return out_distances\n",
    "```"
   ]
  },
  {
   "cell_type": "markdown",
   "metadata": {},
   "source": []
  },
  {
   "cell_type": "markdown",
   "metadata": {},
   "source": [
    "### Practice problem 2\n",
    "\n",
    "* Modify the code of *extract-SNVs.py* to only return SNVs that have a specified genotype. The valid genotypes are '0|1', '1|0', and '1|1'. The user should specify the genotype using the command line. Your code should process this information using the **sys** module.\n",
    "    \n",
    "    \n",
    "* Alert the user if a non-valid genotype is entered.\n",
    "      \n",
    "      \n",
    "* Update the string printed to the terminal to include the genotype that variants were returned for.\n",
    "       \n",
    "       \n",
    "* Run your script on the *gm12878.hg38.vcf* specifying chromosome 1 + '1|0', chromosome 1 + '0|1', and chromosome 1 + '1|1'. **Paste your terminal outputs in the cell below.**"
   ]
  },
  {
   "cell_type": "markdown",
   "metadata": {},
   "source": []
  }
 ],
 "metadata": {
  "kernelspec": {
   "display_name": "Python 3",
   "language": "python",
   "name": "python3"
  },
  "language_info": {
   "codemirror_mode": {
    "name": "ipython",
    "version": 3
   },
   "file_extension": ".py",
   "mimetype": "text/x-python",
   "name": "python",
   "nbconvert_exporter": "python",
   "pygments_lexer": "ipython3",
   "version": "3.7.6"
  }
 },
 "nbformat": 4,
 "nbformat_minor": 4
}
