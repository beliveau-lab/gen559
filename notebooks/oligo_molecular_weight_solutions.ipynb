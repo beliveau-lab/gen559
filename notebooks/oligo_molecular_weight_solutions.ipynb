{
 "cells": [
  {
   "cell_type": "markdown",
   "metadata": {},
   "source": [
    "# Gen559 dictionaries practice notebook with solutions\n",
    "### 2020.11.04"
   ]
  },
  {
   "cell_type": "markdown",
   "metadata": {},
   "source": [
    "Below in the variable 'mw_info' are the molecular weights (g/Mol) for RNA (A, C, G, U) and DNA bases (dA, dC, dG, dT) when incorporated into ssRNA and ssDNA oligos, respectively.\n",
    "\n",
    "*Unless otherwise indiciated, you can assume there are no 5' monophosphate (P) or triphosphate (3P) groups to also consider when calculating the molecular weight of an oligo.* ***To make your calculations fully accurate, you will need to subtract 61.96 g/Mol from your final tally of the MW of any ssDNA or ssRNA oligo to account for the removal of HPO2 from the first base (-63.98 g/mol) and the addition of 2 H molecules to the last base (+2.02)***\n",
    "\n",
    "[Source](https://www.thermofisher.com/us/en/home/references/ambion-tech-support/rna-tools-and-calculators/dna-and-rna-molecular-weights-and-conversions.html)"
   ]
  },
  {
   "cell_type": "code",
   "execution_count": 1,
   "metadata": {},
   "outputs": [],
   "source": [
    "mw_info = 'A\\t329.2\\nC\\t305.2\\nG\\t345.2\\nU\\t306.2\\ndA\\t313.2\\ndC\\t289.2\\ndG\\t329.2\\ndT\\t304.2\\nP\\t79\\n3P\\t159'"
   ]
  },
  {
   "cell_type": "code",
   "execution_count": 2,
   "metadata": {
    "scrolled": true
   },
   "outputs": [
    {
     "name": "stdout",
     "output_type": "stream",
     "text": [
      "A\t329.2\n",
      "C\t305.2\n",
      "G\t345.2\n",
      "U\t306.2\n",
      "dA\t313.2\n",
      "dC\t289.2\n",
      "dG\t329.2\n",
      "dT\t304.2\n",
      "P\t79\n",
      "3P\t159\n"
     ]
    }
   ],
   "source": [
    "print (mw_info)"
   ]
  },
  {
   "cell_type": "markdown",
   "metadata": {},
   "source": [
    "### Practice problem 1a \n",
    "\n",
    "In the cell below, write out in words the major operational steps required to solve *Practice problem 1b*.\n",
    ">**Practice problem 1b** In the cell below, create and print a dictionary containing the nucleotides and molecular weights for the 'A', 'C', 'G', and 'T' DNA bases."
   ]
  },
  {
   "cell_type": "markdown",
   "metadata": {},
   "source": [
    "*  Parse out nucletodide, MW values from string\n",
    "*  Type MW values as floats\n",
    "*  Build ditionary\n",
    "* *With just 4 values could also just build by hand, but as complexity of data grows best to parse string directly*"
   ]
  },
  {
   "cell_type": "markdown",
   "metadata": {},
   "source": [
    "### Practice problem 1b  \n",
    "In the cell below, create and print a dictionary containing the nucleotides and molecular weights for the 'A', 'C', 'G', and 'T' DNA bases. "
   ]
  },
  {
   "cell_type": "code",
   "execution_count": 3,
   "metadata": {},
   "outputs": [
    {
     "name": "stdout",
     "output_type": "stream",
     "text": [
      "{'dA': 313.2, 'dC': 289.2, 'dG': 329.2, 'dT': 304.2}\n"
     ]
    }
   ],
   "source": [
    "# Split mw_info on \\n character and assign to new variable.\n",
    "mw_split = mw_info.split('\\n')\n",
    "\n",
    "# Make list to hold info about DNA bases\n",
    "DNA_vals = []\n",
    "\n",
    "# Populate DNA_vals list\n",
    "for i in range(0, len(mw_split), 1):\n",
    "    \n",
    "    # Check if entry is a DNA base\n",
    "    if mw_split[i][0] == \"d\":\n",
    "        \n",
    "        # If so, add info to list\n",
    "        DNA_vals.append(mw_split[i])\n",
    "\n",
    "# Create an empty dictionary to hold DNA MW info.\n",
    "dna_weights = {}\n",
    "\n",
    "# Populate dna_weights dictionary. Split each entry on \\t to access key and value separately.\n",
    "for i in range(0, len(DNA_vals), 1):\n",
    "    dna_weights[DNA_vals[i].split('\\t')[0]] = float(DNA_vals[i].split('\\t')[1])\n",
    "                                                  \n",
    "# Print dictionary.\n",
    "print (dna_weights)"
   ]
  },
  {
   "cell_type": "markdown",
   "metadata": {},
   "source": [
    "### Practice problem 2a  \n",
    "In the cell below, write out in words the major operational steps required to solve *Practice problem 2b*.\n",
    ">**Practice problem 2b** In the cell below, caluclate the molecular weight of the DNA oligo whose sequence stored in the 'my_DNA1' variable."
   ]
  },
  {
   "cell_type": "markdown",
   "metadata": {},
   "source": [
    "*  Count number of each base in string and store in base-specific variable\n",
    "*  Mulitply MW of each base by the number of times it appears in the string and sum totals together\n",
    "*  Subtract 61.96 from total\n",
    "*  *Could also do with ***for*** loop*"
   ]
  },
  {
   "cell_type": "markdown",
   "metadata": {},
   "source": [
    "### Practice problem 2b  \n",
    "In the cell below, caluclate the molecular weight of the DNA oligo whose sequence stored in the 'my_DNA1' variable."
   ]
  },
  {
   "cell_type": "code",
   "execution_count": 27,
   "metadata": {},
   "outputs": [
    {
     "name": "stdout",
     "output_type": "stream",
     "text": [
      "7574.84\n"
     ]
    }
   ],
   "source": [
    "my_DNA1 = 'TTAGGGTTAGGGTTAGGGTTAGGG'\n",
    "\n",
    "# Count the number of time each base appears in the string. Assign to a base-specific variable.\n",
    "a_counts = my_DNA1.count('A')\n",
    "c_counts = my_DNA1.count('C')\n",
    "g_counts = my_DNA1.count('G')\n",
    "t_counts = my_DNA1.count('T')\n",
    "\n",
    "# Calculate the MW, substracting 61.96 from final tally.\n",
    "dna_mw  = a_counts * dna_weights['dA'] + c_counts * dna_weights['dC'] + g_counts * dna_weights['dG'] \\\n",
    "+ t_counts * dna_weights['dT'] - 61.96\n",
    "\n",
    "# Print result of calcualtion.\n",
    "print ('%0.2f' % dna_mw)"
   ]
  },
  {
   "cell_type": "markdown",
   "metadata": {},
   "source": [
    "### Practice problem 3  \n",
    "In the cell below, calculate the molecular weight of the RNA oligo whose sequence is stored in the 'my_RNA1' variable. Your code should utilize a dictionary."
   ]
  },
  {
   "cell_type": "code",
   "execution_count": 28,
   "metadata": {},
   "outputs": [
    {
     "name": "stdout",
     "output_type": "stream",
     "text": [
      "5047.24\n"
     ]
    }
   ],
   "source": [
    "my_RNA1 = 'CAUCGGACAUCACACA'\n",
    "\n",
    "# Make list to hold info about RNA bases\n",
    "RNA_vals = []\n",
    "\n",
    "# Populate RNA_vals list, referencing 'mw_split' variable from solution 1b.\n",
    "for i in range(0, len(mw_split), 1):\n",
    "    \n",
    "    # Check if entry is a RNA base. Doing a different way than the DNA problem for variety.\n",
    "    if mw_split[i][0] in ['A', 'C', 'G', 'U']:\n",
    "        \n",
    "        # If so, add info to list\n",
    "        RNA_vals.append(mw_split[i])\n",
    "\n",
    "# Create an empty dictionary to hold DNA MW info.\n",
    "rna_weights = {}\n",
    "\n",
    "# Populate dna_weights dictionary. Split each entry on \\t to access key and value separately.\n",
    "for i in range(0, len(RNA_vals), 1):\n",
    "    rna_weights[RNA_vals[i].split('\\t')[0]] = float(RNA_vals[i].split('\\t')[1])\n",
    "\n",
    "## Calculate molecular weight. Doing a different way than the DNA problem for variety.\n",
    "\n",
    "# Make list to tally weights\n",
    "MW_list = []\n",
    "\n",
    "# Process RNA sequence and tally MW.\n",
    "for i in range(0, len(my_RNA1), 1):\n",
    "    base = my_RNA1[i]\n",
    "    MW_list.append(rna_weights[base])\n",
    "\n",
    "# Calculate MW by summing list and subtracting 61.96.\n",
    "final_weight = sum(MW_list) - 61.96\n",
    "\n",
    "# Print result.\n",
    "print ('%0.2f' % final_weight)"
   ]
  },
  {
   "cell_type": "markdown",
   "metadata": {},
   "source": [
    "### Practice problem 4 (challenge)  \n",
    "In the cell below, calculate the molecular weight of the DNA/RNA heteroduplex of the 'my_DNA1' DNA oligo paired with its RNA reverse complement. Assume the DNA oligo has a single 5' phosphate group (\"P\" in the weights table above) and the RNA oligo has a 5' triphosphate group (\"3P\" in the table above)."
   ]
  },
  {
   "cell_type": "code",
   "execution_count": 33,
   "metadata": {},
   "outputs": [
    {
     "name": "stdout",
     "output_type": "stream",
     "text": [
      "12860.08\n"
     ]
    }
   ],
   "source": [
    "# Define DNA:RNA complementary relationships\n",
    "comps = {'A': 'U', 'C' : 'G', 'G': 'C', 'T' : 'A'}\n",
    "\n",
    "# Calculate the DNA strand in the heteroduplex, referencing the solution to problem 2b above.\n",
    "DNA_with_p = dna_mw + 79\n",
    "\n",
    "## Determine the sequence of the complementary RNA to my_DNA1.\n",
    "\n",
    "# Make list to hold RNA bases.\n",
    "rna_base_list = []\n",
    "\n",
    "# Populate rna_base_list using comps dictionary.\n",
    "for i in range(0, len(my_DNA1), 1):\n",
    "    rna_base_list.append(comps[my_DNA1[i]])\n",
    "\n",
    "# Create string from populated rna_base_list.\n",
    "comp_rna = ''.join(rna_base_list)\n",
    "\n",
    "## Calculate molecular weight of comp_rna as in problem 3.\n",
    "\n",
    "# Make list to tally weights\n",
    "comp_MW_list = []\n",
    "\n",
    "# Process RNA sequence and tally MW.\n",
    "for i in range(0, len(comp_rna), 1):\n",
    "    comp_MW_list.append(rna_weights[comp_rna[i]])\n",
    "\n",
    "# Calculate MW by summing list and subtracting 61.96, and adding 159 for the 3P.\n",
    "comp_final_weight = sum(MW_list) - 61.96 + 159\n",
    "\n",
    "# Sum the DNA and RNA weights.\n",
    "heteroduplex_mw = DNA_with_p + comp_final_weight\n",
    "\n",
    "# Print result.\n",
    "print ('%0.2f' % heteroduplex_mw)\n"
   ]
  }
 ],
 "metadata": {
  "kernelspec": {
   "display_name": "Python 3",
   "language": "python",
   "name": "python3"
  },
  "language_info": {
   "codemirror_mode": {
    "name": "ipython",
    "version": 3
   },
   "file_extension": ".py",
   "mimetype": "text/x-python",
   "name": "python",
   "nbconvert_exporter": "python",
   "pygments_lexer": "ipython3",
   "version": "3.7.6"
  }
 },
 "nbformat": 4,
 "nbformat_minor": 4
}
