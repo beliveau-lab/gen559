{
 "cells": [
  {
   "cell_type": "markdown",
   "metadata": {},
   "source": [
    "# Gen559 functions practice notebook\n",
    "### 2020.11.09"
   ]
  },
  {
   "cell_type": "markdown",
   "metadata": {},
   "source": [
    "### Practice problem 1a \n",
    "\n",
    "In the cell below, write out in words the major operational steps required to solve *Practice problem 1b*.\n",
    ">In the cell below, write code that generates a random DNA sequence of length *N* bases. \n",
    "Use a function to generate the random sequence and make your code print the random sequences.\n",
    "Demonstrate the functionality of your code using *N* = 10.\n",
    "*Hint: the random.random() method will be very useful (example usage in the cell above)*"
   ]
  },
  {
   "cell_type": "markdown",
   "metadata": {},
   "source": [
    "*  Import random module\n",
    "*  Define a new function to generatae DNA sequences\n",
    "*  Add sequence generation logic to function\n",
    "*  Have function returnt newly generated DNA sequence\n",
    "*  Run function and print output"
   ]
  },
  {
   "cell_type": "code",
   "execution_count": 1,
   "metadata": {},
   "outputs": [
    {
     "name": "stdout",
     "output_type": "stream",
     "text": [
      "0.4464816782410246\n",
      "0.7123361073714697\n"
     ]
    }
   ],
   "source": [
    "import random\n",
    "print(random.random())\n",
    "print(random.random())\n"
   ]
  },
  {
   "cell_type": "markdown",
   "metadata": {},
   "source": [
    "### Practice problem 1b\n",
    "In the cell below, write code that generates a random DNA sequence of length *N* bases. \n",
    "Use a function to generate the random sequence and make your code print the random sequences.\n",
    "Demonstrate the functionality of your code using *N* = 10.\n",
    "*Hint: the random.random() method will be very useful (example usage in the cell above)*"
   ]
  },
  {
   "cell_type": "code",
   "execution_count": 3,
   "metadata": {},
   "outputs": [
    {
     "name": "stdout",
     "output_type": "stream",
     "text": [
      "CTAAGGACAG\n"
     ]
    }
   ],
   "source": [
    "# Import random module.\n",
    "import random\n",
    "\n",
    "# Define function to generate random DNA sequences of N bases.\n",
    "def seq_generate(N):\n",
    "    \n",
    "    # The text below is a 'docstring' that specifies succintly what the function does.\n",
    "    \"\"\"This generates a random DNA sequence of length N bases.\"\"\"\n",
    "    \n",
    "    # Make an empty list to hold the growing sequence.\n",
    "    seq = []\n",
    "    \n",
    "    # Use random.random() to generate random bases in while loop.\n",
    "    while len(seq) < N:\n",
    "        random_val = random.random()\n",
    "        if random_val < 0.25:\n",
    "            seq.append(\"A\")\n",
    "        elif 0.25 <= random_val < 0.5:\n",
    "            seq.append(\"T\")\n",
    "        elif 0.5 <= random_val <0.75:\n",
    "            seq.append(\"C\")\n",
    "        else:\n",
    "            seq.append(\"G\")\n",
    "    \n",
    "    # Return the randomly generated DNA sequence as a string.\n",
    "    return ''.join(seq)\n",
    "\n",
    "print (seq_generate(10))\n"
   ]
  },
  {
   "cell_type": "markdown",
   "metadata": {},
   "source": [
    "### Practice problem 2a \n",
    "\n",
    "In the cell below, write out in words the major operational steps required to solve *Practice problem 2b*.\n",
    ">In the cell below, write code that returns *k* unique random sequences of length *N* bases. \n",
    "Use a function to generate the random sequence and print the *k* random sequences.\n",
    "Demonstrate the functionality of your code using *N* = 10 and *k* = 5.\n",
    "***Make sure to check that your sequences are unique.***"
   ]
  },
  {
   "cell_type": "markdown",
   "metadata": {},
   "source": [
    "*  \n",
    "*  \n",
    "*  \n",
    "*  "
   ]
  },
  {
   "cell_type": "markdown",
   "metadata": {},
   "source": [
    "### Practice problem 2b\n",
    "In the cell below, write code that returns *k* unique random sequences of length *N* bases. \n",
    "Use a function to generate the random sequence and print the *k* random sequences.\n",
    "Demonstrate the functionality of your code using *N* = 10 and *k* = 5.\n",
    "***Make sure to check that your sequences are unique.***"
   ]
  },
  {
   "cell_type": "code",
   "execution_count": null,
   "metadata": {},
   "outputs": [],
   "source": []
  },
  {
   "cell_type": "markdown",
   "metadata": {},
   "source": [
    "### Practice problem 3 (challenge)\n",
    "In the cell below, write a function that screens an input DNA sequence for homopolymer runs of *X* consecutive A, C, G, or T bases. Use the function you wrote in **Practice problem 2b** to generate 100 unique 20mers (*i.e. set* N *= 20 and* k *= 5*). Using functions, run three trials to see how many of 100 20mers you generate have a homopolymeric strech of at least 3 bases. Print your results."
   ]
  },
  {
   "cell_type": "code",
   "execution_count": null,
   "metadata": {},
   "outputs": [],
   "source": []
  }
 ],
 "metadata": {
  "kernelspec": {
   "display_name": "Python 2",
   "language": "python",
   "name": "python2"
  },
  "language_info": {
   "codemirror_mode": {
    "name": "ipython",
    "version": 2
   },
   "file_extension": ".py",
   "mimetype": "text/x-python",
   "name": "python",
   "nbconvert_exporter": "python",
   "pygments_lexer": "ipython2",
   "version": "2.7.15"
  }
 },
 "nbformat": 4,
 "nbformat_minor": 4
}
