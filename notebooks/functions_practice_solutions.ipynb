{
 "cells": [
  {
   "cell_type": "markdown",
   "metadata": {},
   "source": [
    "# Gen559 functions practice notebook\n",
    "### 2020.11.09"
   ]
  },
  {
   "cell_type": "markdown",
   "metadata": {},
   "source": [
    "### Practice problem 1a \n",
    "\n",
    "In the cell below, write out in words the major operational steps required to solve *Practice problem 1b*.\n",
    ">In the cell below, write code that generates a random DNA sequence of length *N<span>* bases. \n",
    "Use a function to generate the random sequence and make your code print the random sequences.\n",
    "Demonstrate the functionality of your code using *N<span>* = 10.\n",
    "*Hint: the random.random() method will be very useful (example usage in the cell above)*"
   ]
  },
  {
   "cell_type": "markdown",
   "metadata": {},
   "source": [
    "*  Import random module\n",
    "*  Define new function\n",
    "*  Implement random base generation logic in function\n",
    "*  Return DNA sequence\n",
    "*  Call function and print result"
   ]
  },
  {
   "cell_type": "code",
   "execution_count": 1,
   "metadata": {},
   "outputs": [
    {
     "name": "stdout",
     "output_type": "stream",
     "text": [
      "0.4464816782410246\n",
      "0.7123361073714697\n"
     ]
    }
   ],
   "source": [
    "import random\n",
    "print(random.random())\n",
    "print(random.random())\n"
   ]
  },
  {
   "cell_type": "markdown",
   "metadata": {},
   "source": [
    "### Practice problem 1b\n",
    "In the cell below, write code that generates a random DNA sequence of length *N<span>* bases. \n",
    "Use a function to generate the random sequence and make your code print the random sequences.\n",
    "Demonstrate the functionality of your code using *N<span>* = 10.\n",
    "*Hint: the random.random() method will be very useful (example usage in the cell above)*"
   ]
  },
  {
   "cell_type": "code",
   "execution_count": 2,
   "metadata": {},
   "outputs": [
    {
     "name": "stdout",
     "output_type": "stream",
     "text": [
      "GTTAGGTCCA\n"
     ]
    }
   ],
   "source": [
    "# Import random module.\n",
    "import random\n",
    "\n",
    "# Define the sequence generation function.\n",
    "def seq_generate(N):\n",
    "    \n",
    "    # This is a docstring, it provides a succinct description of what the function does.\n",
    "    \"\"\"This generates a random DNA sequence of length N bases.\"\"\"\n",
    "    \n",
    "    # Make a new list to hold growing sequence.\n",
    "    seq = []\n",
    "    \n",
    "    # Populate empty list one base at a time using random.random() function\n",
    "    while len(seq) < N:\n",
    "        random_val = random.random()\n",
    "        if random_val < 0.25:\n",
    "            seq.append(\"A\")\n",
    "        elif 0.25 <= random_val < 0.5:\n",
    "            seq.append(\"T\")\n",
    "        elif 0.5 <= random_val <0.75:\n",
    "            seq.append(\"C\")\n",
    "        else:\n",
    "            seq.append(\"G\")\n",
    "    \n",
    "    # Return random sequence as a string.\n",
    "    return ''.join(seq)\n",
    "\n",
    "\n",
    "# Call seq_generate function and print output to terminal.\n",
    "print(seq_generate(10))\n"
   ]
  },
  {
   "cell_type": "markdown",
   "metadata": {},
   "source": [
    "### Practice problem 2a \n",
    "\n",
    "In the cell below, write out in words the major operational steps required to solve *Practice problem 2b*.\n",
    ">In the cell below, write code that returns *k<span>* unique random sequences of length *N<span>* bases. \n",
    "Use a function to generate the random sequence and print the *k<span>* random sequences.\n",
    "Demonstrate the functionality of your code using *N<span>* = 10 and *k<span>* = 5.\n",
    "***Make sure to check that your sequences are unique.***"
   ]
  },
  {
   "cell_type": "markdown",
   "metadata": {},
   "source": [
    "*  Determine how to check uniqueness (e.g. use set or dictionary)\n",
    "*  Use iterator to call random sequence design function\n",
    "*  Populate data structure that contains random sequences\n",
    "*  Print results"
   ]
  },
  {
   "cell_type": "markdown",
   "metadata": {},
   "source": [
    "### Practice problem 2b\n",
    "In the cell below, write code that returns *k<span>* unique random sequences of length *N<span>* bases. \n",
    "You can use the function from **Practice problem 1b** to generate the random sequences and print the *k<span>* random sequences.\n",
    "Demonstrate the functionality of your code using *N<span>* = 10 and *k<span>* = 5. Print your results.\n",
    "***Make sure to check that your sequences are unique.***"
   ]
  },
  {
   "cell_type": "code",
   "execution_count": 10,
   "metadata": {},
   "outputs": [
    {
     "name": "stdout",
     "output_type": "stream",
     "text": [
      "{'TTCACACCCG', 'TTTAACAGCC', 'GTGCGCTTTA', 'GATATTTACC', 'TACGGCAAAC'}\n"
     ]
    }
   ],
   "source": [
    "# Specify the desired sequence length.\n",
    "seq_length = 10\n",
    "\n",
    "# Specify the desired number of seqs to generate.\n",
    "number_of_seqs = 5\n",
    "\n",
    "## Design seqs and check uniqueness.\n",
    "\n",
    "# Create an empty set to hold designed seqs.\n",
    "seq_set = set()\n",
    "\n",
    "# Populate set using while loop.\n",
    "while len(seq_set) < number_of_seqs:\n",
    "    new_seq = seq_generate(seq_length)\n",
    "    seq_set.add(new_seq)\n",
    "\n",
    "# Print seqs.\n",
    "print (seq_set)\n"
   ]
  },
  {
   "cell_type": "markdown",
   "metadata": {},
   "source": [
    "### Practice problem 3 (challenge)\n",
    "In the cell below, write a function that screens an input DNA sequence for homopolymer runs of *X<span>* consecutive A, C, G, or T bases. Use the function you wrote in **Practice problem 2b** to generate 100 unique 20mers (*i.e. set* N *= 20 and* k *= 100*). Using functions, run three trials to see how many of 100 20mers you generate have a homopolymeric strech of at least 3 bases. Print your results."
   ]
  },
  {
   "cell_type": "code",
   "execution_count": 51,
   "metadata": {
    "scrolled": false
   },
   "outputs": [
    {
     "name": "stdout",
     "output_type": "stream",
     "text": [
      "57\n",
      "58\n",
      "68\n"
     ]
    }
   ],
   "source": [
    "# Define function to identify homopolyermic sequences.\n",
    "def find_homopolyers(seq, run_length):\n",
    "    \n",
    "    \"\"\"This identifies whether there are homopolymeric stetches of a specified length in an input DNA sequence\"\"\"\n",
    "    \n",
    "    # Initialize list with DNA bases.\n",
    "    bases = ['A', 'C', 'G', 'T']\n",
    "    \n",
    "    # Create new list to contain homopolymers of desired length.\n",
    "    # Using list comprehension for example, but also could do using a for loop.\n",
    "    runs = [''.join(i * int(run_length)) for i in bases]\n",
    "    \n",
    "    # Check input seq for presence of homopolymeric runs. Return true if so.\n",
    "    for run in runs:\n",
    "        if run in seq:\n",
    "            return True\n",
    "\n",
    "# Make list to hold results of three trials.\n",
    "results = []\n",
    "\n",
    "# Use for loop to run 3 trials.\n",
    "for i in range(0, 3, 1):\n",
    "    \n",
    "    # Generate 100 random 20mers using modified code from problem 2b.\n",
    "    # Create an empty set to hold designed seqs.\n",
    "    seq_set = set()\n",
    "\n",
    "    # Populate set using while loop.\n",
    "    while len(seq_set) < 100:\n",
    "        new_seq = seq_generate(20)\n",
    "        seq_set.add(new_seq)\n",
    "    \n",
    "    # Create counter variable to keep track of how many seqs have homopolymer runs.\n",
    "    counter = 0\n",
    "    \n",
    "    # Iterate through sequences, checking for homopolymer runs using function.\n",
    "    for seq in seq_set:\n",
    "        \n",
    "        # If the function returns True, add 1 to counter value.\n",
    "        if find_homopolyers(seq, 3) is True:\n",
    "            counter += 1\n",
    "    \n",
    "    # Add counter total to results list. Adding as string to make printing easier.\n",
    "    results.append(str(counter))\n",
    "\n",
    "# Print results.\n",
    "print('\\n'.join(results))\n"
   ]
  }
 ],
 "metadata": {
  "kernelspec": {
   "display_name": "Python 3",
   "language": "python",
   "name": "python3"
  },
  "language_info": {
   "codemirror_mode": {
    "name": "ipython",
    "version": 3
   },
   "file_extension": ".py",
   "mimetype": "text/x-python",
   "name": "python",
   "nbconvert_exporter": "python",
   "pygments_lexer": "ipython3",
   "version": "3.7.6"
  }
 },
 "nbformat": 4,
 "nbformat_minor": 4
}
