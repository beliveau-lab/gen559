{
 "cells": [
  {
   "cell_type": "markdown",
   "metadata": {},
   "source": [
    "# Gen559 RE practice notebook\n",
    "### 2020.11.30"
   ]
  },
  {
   "cell_type": "markdown",
   "metadata": {},
   "source": [
    "### Python RE sytnax quick reference\n",
    "\n",
    "| Syntax                                             | Description                                         |\n",
    "|----------------------------------------------------|-----------------------------------------------------|\n",
    "| ^                                                  | Matches the beginning of a line                     |\n",
    "| $                                                  | Matches the end of the line                         |\n",
    "| .                                                  | Matches any character                               |\n",
    "| \\s                                                 | Matches whitespace                                  |\n",
    "| \\S                                                 | Matches any non-whitespace character                |\n",
    "| *                                                  | Repeats a character zero or more times              |\n",
    "| *?                                                 | Repeats a character zero or more times (non-greedy) |\n",
    "| +                                                  | Repeats a character one or more times               |\n",
    "| +?                                                 | Repeats a character one or more times (non-greedy)  |\n",
    "| [aeiou]                                            | Matches a single character in the listed set        |\n",
    "| [^XYZ]                                             | Matches a single character not in the listed set    |\n",
    "| [a-z0-9] The set of characters can include a range |                                                     |\n",
    "| (                                                  | Indicates where string extraction is to start       |\n",
    "| )                                                  | Indicates where string extraction is to end         |\n",
    "|re.IGNORECASE                                       | Makes search case-insensitive                       |"
   ]
  },
  {
   "cell_type": "markdown",
   "metadata": {},
   "source": [
    "### Practice problem 1\n",
    "\n",
    "In the cell below, write function that uses a regular expression to return 'True' if the input matches only DNA sequences (case insensitive). Create test inputs and use print() to demonstrate the functionality of your code."
   ]
  },
  {
   "cell_type": "code",
   "execution_count": 1,
   "metadata": {},
   "outputs": [
    {
     "name": "stdout",
     "output_type": "stream",
     "text": [
      "True\n",
      "Not DNA!!\n"
     ]
    }
   ],
   "source": [
    "# Import re module.\n",
    "import re\n",
    "\n",
    "def check_DNA(seq):\n",
    "    '''Checks to see if a sequence has only valid DNA characters, case insensitive'''\n",
    "    if not re.search(\"[^ACGT]+\", seq, re.IGNORECASE):\n",
    "        return True\n",
    "    else:\n",
    "        return 'Not DNA!!'\n",
    "    \n",
    "seq1 = 'ATACACAAGGAA'\n",
    "seq2 = 'Juassic park'\n",
    "\n",
    "print(check_DNA(seq1))\n",
    "print(check_DNA(seq2))\n",
    "    "
   ]
  },
  {
   "cell_type": "markdown",
   "metadata": {},
   "source": [
    "### Practice problem 2\n",
    "\n",
    "In the cell below, write function that uses a regular expression to identify if an input string is DNA, RNA, or neither. Create test inputs and use print() to demonstrate the functionality of your code."
   ]
  },
  {
   "cell_type": "code",
   "execution_count": 2,
   "metadata": {},
   "outputs": [
    {
     "name": "stdout",
     "output_type": "stream",
     "text": [
      "It's DNA!\n",
      "It's neither!\n",
      "It's RNA!\n"
     ]
    }
   ],
   "source": [
    "def which_nuc_acid(sequence):\n",
    "    '''Check if an input seqeunce is DNA, RNA, or neither'''\n",
    "    if not re.search(\"[^ACGT]+\", sequence, re.IGNORECASE):\n",
    "        return(\"It's DNA!\")\n",
    "    elif not re.search(\"[^ACGU]+\", sequence, re.IGNORECASE):\n",
    "        return(\"It's RNA!\")\n",
    "    else:\n",
    "        return(\"It's neither!\")\n",
    "\n",
    "seq3 = 'CUACCAGAUAAA'\n",
    "\n",
    "print(which_nuc_acid(seq1))\n",
    "print(which_nuc_acid(seq2))\n",
    "print(which_nuc_acid(seq3))\n"
   ]
  },
  {
   "cell_type": "markdown",
   "metadata": {},
   "source": [
    "### Practice problem 3\n",
    "\n",
    "In the cell below is a function to randomly generate a DNA sequence of a defined length (*from our first practice notebook*). \n",
    "\n",
    "* Generate 100 random 50mers\n",
    "* Write a function using re that scans for homopolymeric runs N+ A, C, G, or T bases. Run this function on your 100 random sequences and print how many have a homopolymeric run of >4 bases.\n",
    "* Write a function using the re that scans for the presence of ApoI sites(recognition site: 5' RAATTY 3'; R = A or G, i.e. a purine; Y = C or T, i.e. a pyrmidine). Run this function on your 100 random sequences and print how many have an ApoI site."
   ]
  },
  {
   "cell_type": "code",
   "execution_count": 3,
   "metadata": {},
   "outputs": [
    {
     "name": "stdout",
     "output_type": "stream",
     "text": [
      "43\n",
      "7\n"
     ]
    }
   ],
   "source": [
    "# Import random module.\n",
    "import random\n",
    "\n",
    "# Define the sequence generation function.\n",
    "def seq_generate(N):\n",
    "    \n",
    "    # This is a docstring, it provides a succinct description of what the function does.\n",
    "    \"\"\"This generates a random DNA sequence of length N bases.\"\"\"\n",
    "    \n",
    "    # Make a new list to hold growing sequence.\n",
    "    seq = []\n",
    "    \n",
    "    # Populate empty list one base at a time using random.random() function\n",
    "    while len(seq) < N:\n",
    "        random_val = random.random()\n",
    "        if random_val < 0.25:\n",
    "            seq.append(\"A\")\n",
    "        elif 0.25 <= random_val < 0.5:\n",
    "            seq.append(\"T\")\n",
    "        elif 0.5 <= random_val <0.75:\n",
    "            seq.append(\"C\")\n",
    "        else:\n",
    "            seq.append(\"G\")\n",
    "    \n",
    "    # Return random sequence as a string.\n",
    "    return ''.join(seq)\n",
    "\n",
    "\n",
    "# Define function to check for homopolymers.\n",
    "def homopolymer_check(seq, n):\n",
    "    \"\"\"Checks for homopolymeric runs of => n bases in an input sequence. Returns True if found. \"\"\"\n",
    "    bases = ['A', 'C', 'G', 'T']\n",
    "    runs = [x * int(n) for x in bases]\n",
    "    if re.search('|'.join(runs), seq, re.IGNORECASE):\n",
    "        return True\n",
    "\n",
    "\n",
    "# Define function to check for ApoI sites. Recognition site pattern is palindromic so only need to check top strand.\n",
    "def apo_check(seq):\n",
    "    if re.search('([A|G])(AATT)([C|T])', seq, re.IGNORECASE):\n",
    "        return True\n",
    "        \n",
    "        \n",
    "# Create and populate list of 100 random 50mers.\n",
    "seqList = [seq_generate(50) for _ in range(100)]\n",
    "\n",
    "# Call homopolymer_check function, report how many true.\n",
    "homopolymer_count = [x for x in seqList if homopolymer_check(x, 4) is True]\n",
    "print(len(homopolymer_count))\n",
    "\n",
    "# Call apo_check function, report how many true.\n",
    "apo_count = [x for x in seqList if apo_check(x) is True]\n",
    "print(len(apo_count))\n"
   ]
  },
  {
   "cell_type": "code",
   "execution_count": null,
   "metadata": {},
   "outputs": [],
   "source": []
  }
 ],
 "metadata": {
  "kernelspec": {
   "display_name": "Python 3",
   "language": "python",
   "name": "python3"
  },
  "language_info": {
   "codemirror_mode": {
    "name": "ipython",
    "version": 3
   },
   "file_extension": ".py",
   "mimetype": "text/x-python",
   "name": "python",
   "nbconvert_exporter": "python",
   "pygments_lexer": "ipython3",
   "version": "3.7.6"
  }
 },
 "nbformat": 4,
 "nbformat_minor": 4
}
