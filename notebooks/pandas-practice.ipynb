{
 "cells": [
  {
   "cell_type": "markdown",
   "metadata": {},
   "source": [
    "# Gen559 pandas practice notebook\n",
    "### 2020.12.09"
   ]
  },
  {
   "cell_type": "markdown",
   "metadata": {},
   "source": [
    "### Practice problem 1 \n",
    "\n",
    "The file *3_probes.bed* contains information about hybridization probes in the format:\n",
    "\n",
    "```python\n",
    "'chromosome' + '\\t' + 'start' + '\\t' + 'stop' + '\\t' + 'sequence' + '\\t' + 'Tm'\n",
    "```\n",
    "\n",
    "* In the cell below, Use the *pandas.read_csv()* method to import the info from this file into Python as a DataFrame object.    \n",
    "          \n",
    "          \n",
    "* Assign column labels to the DataFrame based on the string above.\n",
    "       \n",
    "      \n",
    "* Print your DataFrame"
   ]
  },
  {
   "cell_type": "code",
   "execution_count": null,
   "metadata": {},
   "outputs": [],
   "source": []
  },
  {
   "cell_type": "markdown",
   "metadata": {},
   "source": [
    "### Practice problem 2\n",
    "\n",
    "* In the cell below, create a function *get_GC()* that returns the GC% of an input DNA sequence.\n",
    "          \n",
    "          \n",
    "* Use the pandas *df.filter()* method to create a list of the sequences of the hybridization probes. *Hint: you can use the .tolist() method on the DataFrame you create after filtering*\n",
    "           \n",
    "           \n",
    "* Call the *get_GC()* function on the list of probe sequences.\n",
    "           \n",
    "           \n",
    "* Use the *df.insert()* method to add a new 'GC%' column to your DataFrame."
   ]
  },
  {
   "cell_type": "code",
   "execution_count": null,
   "metadata": {},
   "outputs": [],
   "source": []
  },
  {
   "cell_type": "markdown",
   "metadata": {},
   "source": [
    "### Practice problem 3\n",
    "        \n",
    "* In the cell below, use the *df.query()* method to create a new dataframe in which only probes with Tm > 42.5C and GC% > 42.5% are returned,\n",
    "       \n",
    "       \n",
    "* Print your results."
   ]
  },
  {
   "cell_type": "code",
   "execution_count": null,
   "metadata": {},
   "outputs": [],
   "source": []
  }
 ],
 "metadata": {
  "kernelspec": {
   "display_name": "Python 3",
   "language": "python",
   "name": "python3"
  },
  "language_info": {
   "codemirror_mode": {
    "name": "ipython",
    "version": 3
   },
   "file_extension": ".py",
   "mimetype": "text/x-python",
   "name": "python",
   "nbconvert_exporter": "python",
   "pygments_lexer": "ipython3",
   "version": "3.7.6"
  }
 },
 "nbformat": 4,
 "nbformat_minor": 4
}
