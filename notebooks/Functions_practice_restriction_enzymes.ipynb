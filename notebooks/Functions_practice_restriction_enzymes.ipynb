{
 "cells": [
  {
   "cell_type": "markdown",
   "metadata": {},
   "source": [
    "# Gen559 functions practice 2: restriction enzymes\n",
    "### 2020.11.16"
   ]
  },
  {
   "cell_type": "markdown",
   "metadata": {},
   "source": [
    "### Practice problem 1a \n",
    "\n",
    "In the cell below, write out in words the major operational steps required to solve *Practice problem 1b*.\n",
    ">In the cell below, write a function that finds restriction sites for the enzyme HindIII (recognition site: 5' AAGCTT 3') in an input DNA sequence and returns a new DNA sequence in which the recognition site(s) are converted to lower case. Run your function on **DNA_seq** and print your result."
   ]
  },
  {
   "cell_type": "markdown",
   "metadata": {},
   "source": [
    "*  \n",
    "*  \n",
    "*  \n",
    "* "
   ]
  },
  {
   "cell_type": "code",
   "execution_count": 3,
   "metadata": {},
   "outputs": [],
   "source": [
    "# Here is a DNA sequence you will use for the problems in this notebook\n",
    "DNA_seq = 'CCCCATCCTTATTCCCTTTAAGAACGTTCTGATGGGCATCAAAAAGAATCCCTTTCCCCCATGCCACTGACCTCTAACATCTAGGCTCTGGCCTGTACCAGATGAGGAGGAAAGTGTCACTGTATAATCAATATTTATACAATTATAAGTCAGAGCTTTACAGAGGTGTCACCTAACAAAACGCATAAATGACTAAGAATCATTCCAAGTGTCACCATCAAGACCACCAGAATATCACTAAAATCTGCATTAGGATTATGTCTGTTGCTACTGGGATATCACTGACAAGTCTTTGAAGCTCATATGTCACACAATCTCCAGAAGGCCTCATACAATAGCAAATTGTTGCTTGTTACAATAATGTTATATTAAAAATGGCTACTCGTTGAAAAATTATCTTAAAACAAATTCCATTGTTTAGGTGCTTCCCATATTTAGACATTCAGATAAACAATCTACTACATAGTGCAATTTTAATTCCAACTCGCTCTTTCCCCTTTTGCTTCAACTCCCCTTTAAATATCCTATGCCATGTCTTTCTATACAACACAGGCACTTAAAAACAGAAATGCCTAAGCTATTTAGACTTTTGCCATTTTCTTCTCATCTTGCTGCAATCATGTTTTAACGGGATATTTAATTATAGATTCTACCATAGATTTACTGCCTTTCTTTGAAAATAGGAAACTCTTGGAGTAATTAAGAGCTAGCTCGTTCAGAAAGTACTATAGAAAAAGAAATTCCAATCTCTCAACAAGAAATTTAAAAATTCTTATAGAGAGGCTTAGCCTTTGAACAAAATATATAATAAAAAGCTTTCTTGTCCATGAATATTAAAACATTTCTTACCACATGGCTAATTCAAATTGGGGTTACAACAGTGAGTCAGAAAACCTTGCTCTAAATAGTGATCTGATGAGGACATTAAAGAGTATTTGATTTAAAAGCTTTTTTTTTTAAATCAACATTCTTATAAAATCTAGGCATCTACCTAGTTCAAAGTATATTCCAAACACTTAGAACTCTGTTATAGGAATAGCTAATAGTGTGATCTACAGCAGTCATTAACAGTTGCACATTAAAAAGAAATAGCAATAAAAAGATGGACACCCTGAGGTCAATGATTTCCTCCCAATAACCAAACAAATGTTCCAATAGCATAAACCAAAAGATGATGATAATTACTACAACATGTTATGTTAACCAACCTCCCTAGTCCCGCGCAATGAGCTCACAGAAGTCAGGATGTGCACAGGCTGTATCCTTCGCTGTTTCCATTCTTGGTTTAAGATTTCCGTTCTTTCCAAAATTTTCTGACGATTGGAACTAAACATACTCTTAAAAAAAAAAATGAAGGAGAGGAAAGGAGAAATTGTTCATTGTTAGAAAATGTATAACACCTGTAAAGCAGGTTAAAAATCTAGTGTATCCTCAAAAATATCAAGAACATTTTCTTAGGTGCATATAGATTTTACACTATAGTTTCCCACATTCAAATAATACAAAAACACCACATCTGTTATTTTATTGCAAGTGGTTAGAGAACAGGAN'"
   ]
  },
  {
   "cell_type": "markdown",
   "metadata": {},
   "source": [
    "### Practice problem 1b\n",
    "In the cell below, write a function that finds restriction sites for the enzyme HindIII (recognition site: 5' AAGCTT 3') in an input DNA sequence and returns a new DNA sequence in which the recognition site(s) are converted to lower case. Run your function on **DNA_seq** and print your result."
   ]
  },
  {
   "cell_type": "code",
   "execution_count": null,
   "metadata": {},
   "outputs": [],
   "source": []
  },
  {
   "cell_type": "markdown",
   "metadata": {},
   "source": [
    "### Practice problem 2a \n",
    "\n",
    "In the cell below, write out in words the major operational steps required to solve *Practice problem 2b*.\n",
    ">In the cell below, write a function that finds restriction sites for the enzyme ApoI (recognition site: 5' RAATTY 3'; R = A or G, i.e. a purine; Y = C or T, i.e. a pyrmidine.) in an input DNA sequence and returns a list of DNA fragments produced by cutting with ApoI. ApoI's cut pattern is 5' R *cut* AATTY 3'. Run your function on **DNA_seq** and print your result."
   ]
  },
  {
   "cell_type": "markdown",
   "metadata": {},
   "source": [
    "*  \n",
    "*  \n",
    "*  \n",
    "* "
   ]
  },
  {
   "cell_type": "markdown",
   "metadata": {},
   "source": [
    "### Practice problem 2b\n",
    "In the cell below, write a function that finds restriction sites for the enzyme ApoI (recognition site: 5' RAATTY 3'; R = A or G, i.e. a purine; Y = C or T, i.e. a pyrmidine.) in an input DNA sequence and returns a list of DNA fragments produced by cutting with ApoI. ApoI's cut pattern is 5' R *cut* AATTY 3'. Run your function on **DNA_seq** and print your result."
   ]
  },
  {
   "cell_type": "code",
   "execution_count": null,
   "metadata": {},
   "outputs": [],
   "source": []
  }
 ],
 "metadata": {
  "kernelspec": {
   "display_name": "Python 3",
   "language": "python",
   "name": "python3"
  },
  "language_info": {
   "codemirror_mode": {
    "name": "ipython",
    "version": 3
   },
   "file_extension": ".py",
   "mimetype": "text/x-python",
   "name": "python",
   "nbconvert_exporter": "python",
   "pygments_lexer": "ipython3",
   "version": "3.7.6"
  }
 },
 "nbformat": 4,
 "nbformat_minor": 4
}
