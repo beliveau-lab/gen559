{
 "cells": [
  {
   "cell_type": "markdown",
   "metadata": {},
   "source": [
    "# Gen559 functions practice notebook\n",
    "### 2020.11.09"
   ]
  },
  {
   "cell_type": "markdown",
   "metadata": {},
   "source": [
    "### Practice problem 1a \n",
    "\n",
    "In the cell below, write out in words the major operational steps required to solve *Practice problem 1b*.\n",
    ">In the cell below, write code that generates a random DNA sequence of length *N<span>* bases. \n",
    "Use a function to generate the random sequence and make your code print the random sequences.\n",
    "Demonstrate the functionality of your code using *N<span>* = 10.\n",
    "*Hint: the random.random() method will be very useful (example usage in the cell above)*"
   ]
  },
  {
   "cell_type": "markdown",
   "metadata": {},
   "source": [
    "*  \n",
    "*  \n",
    "*  \n",
    "*  "
   ]
  },
  {
   "cell_type": "code",
   "execution_count": 1,
   "metadata": {},
   "outputs": [
    {
     "name": "stdout",
     "output_type": "stream",
     "text": [
      "0.4464816782410246\n",
      "0.7123361073714697\n"
     ]
    }
   ],
   "source": [
    "import random\n",
    "print(random.random())\n",
    "print(random.random())\n"
   ]
  },
  {
   "cell_type": "markdown",
   "metadata": {},
   "source": [
    "### Practice problem 1b\n",
    "In the cell below, write code that generates a random DNA sequence of length *N<span>* bases. \n",
    "Use a function to generate the random sequence and make your code print the random sequences.\n",
    "Demonstrate the functionality of your code using *N<span>* = 10.\n",
    "*Hint: the random.random() method will be very useful (example usage in the cell above)*"
   ]
  },
  {
   "cell_type": "code",
   "execution_count": null,
   "metadata": {},
   "outputs": [],
   "source": []
  },
  {
   "cell_type": "markdown",
   "metadata": {},
   "source": [
    "### Practice problem 2a \n",
    "\n",
    "In the cell below, write out in words the major operational steps required to solve *Practice problem 2b*.\n",
    ">In the cell below, write code that returns *k<span>* unique random sequences of length *N<span>* bases. \n",
    "Use a function to generate the random sequence and print the *k<span>* random sequences.\n",
    "Demonstrate the functionality of your code using *N<span>* = 10 and *k<span>* = 5.\n",
    "***Make sure to check that your sequences are unique.***"
   ]
  },
  {
   "cell_type": "markdown",
   "metadata": {},
   "source": [
    "*  \n",
    "*  \n",
    "*  \n",
    "*  "
   ]
  },
  {
   "cell_type": "markdown",
   "metadata": {},
   "source": [
    "### Practice problem 2b\n",
    "In the cell below, write code that returns *k<span>* unique random sequences of length *N<span>* bases. \n",
    "You can use the function from **Practice problem 1b** to generate the random sequences and print the *k<span>* random sequences.\n",
    "Demonstrate the functionality of your code using *N<span>* = 10 and *k<span>* = 5. Print your results.\n",
    "***Make sure to check that your sequences are unique.***"
   ]
  },
  {
   "cell_type": "code",
   "execution_count": null,
   "metadata": {},
   "outputs": [],
   "source": []
  },
  {
   "cell_type": "markdown",
   "metadata": {},
   "source": [
    "### Practice problem 3 (challenge)\n",
    "In the cell below, write a function that screens an input DNA sequence for homopolymer runs of *X<span>* consecutive A, C, G, or T bases. Use the code you wrote in **Practice problem 2b** to generate 100 unique 20mers (*i.e. set* N *= 20 and* k *= 100*). Using functions, run three trials to see how many of 100 20mers you generate have a homopolymeric strech of at least 3 bases. Print your results."
   ]
  },
  {
   "cell_type": "code",
   "execution_count": null,
   "metadata": {},
   "outputs": [],
   "source": []
  }
 ],
 "metadata": {
  "kernelspec": {
   "display_name": "Python 3",
   "language": "python",
   "name": "python3"
  },
  "language_info": {
   "codemirror_mode": {
    "name": "ipython",
    "version": 3
   },
   "file_extension": ".py",
   "mimetype": "text/x-python",
   "name": "python",
   "nbconvert_exporter": "python",
   "pygments_lexer": "ipython3",
   "version": "3.7.6"
  }
 },
 "nbformat": 4,
 "nbformat_minor": 4
}
