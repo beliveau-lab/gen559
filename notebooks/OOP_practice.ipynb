{
 "cells": [
  {
   "cell_type": "markdown",
   "metadata": {},
   "source": [
    "# Gen559 OOP practice notebook\n",
    "### 2020.11.23"
   ]
  },
  {
   "cell_type": "markdown",
   "metadata": {},
   "source": [
    "### Practice problem 1a \n",
    "\n",
    "In the cell below, write out in words the major operational steps required to solve *Practice problem 1b*.\n",
    ">In the cell below, copy the code block above to import the **Date** class from the lecture slides. Add a year data member to the Date class:\n",
    ">\n",
    ">Allow the class constructor to get an additional argument denoting the year\n",
    "If the year is not provided in the constructor, the class should assume it is 2020 (Hint: remember the default value option in function definition)\n",
    "When printing in US format, print all 4 digits of the year. When printing in UK format, print only the last 2 digits.(Hint: str(x) will convert an integer X into a string)"
   ]
  },
  {
   "cell_type": "markdown",
   "metadata": {},
   "source": [
    "* \n",
    "* \n",
    "* \n",
    "* \n"
   ]
  },
  {
   "cell_type": "code",
   "execution_count": null,
   "metadata": {},
   "outputs": [],
   "source": [
    "class Date:\n",
    "    def __init__(self, day, month):\n",
    "        self.day = day\n",
    "        self.month = month\n",
    "    def printUS(self):\n",
    "        print(self.month , \"/\" , self.day)\n",
    "    def printUK(self):\n",
    "        print(self.day , \".\" , self.month)\n",
    "\n",
    "mydate = Date(15, \"Jan\")\n",
    "mydate.printUS()\n",
    "mydate2 = Date(22, \"Nov\")\n",
    "mydate2.printUK()\n"
   ]
  },
  {
   "attachments": {},
   "cell_type": "markdown",
   "metadata": {},
   "source": [
    "### Practice problem 1b \n",
    "\n",
    "In the cell below, copy the code block above to import the **Date** class from the lecture slides. Add a year data member to the Date class:\n",
    "\n",
    "* Allow the class constructor to get an additional argument denoting the year\n",
    "* If the year is not provided in the constructor, the class should assume it is 2020 (*Hint: remember the default value option in function definition*)\n",
    "* When printing in US format, print all 4 digits of the year. When printing in UK format, print only the last 2 digits.(*Hint: str(x) will convert an integer X into a string*)"
   ]
  },
  {
   "cell_type": "code",
   "execution_count": null,
   "metadata": {},
   "outputs": [],
   "source": []
  },
  {
   "attachments": {},
   "cell_type": "markdown",
   "metadata": {},
   "source": [
    "### Practice problem 2 \n",
    "\n",
    "* In the cell below, change the **Date** class such that the month is represented as a number rather than as a string.\n",
    "\n",
    "* Add the function *addMonths(n)* to the class Date. This function should add n months to the current date. Make sure to correctly handle transitions across years. (*Hint: the modulo operator, %, returns the remainder in division: 8 % 3 = 2*)"
   ]
  },
  {
   "cell_type": "code",
   "execution_count": null,
   "metadata": {},
   "outputs": [],
   "source": []
  },
  {
   "attachments": {},
   "cell_type": "markdown",
   "metadata": {},
   "source": [
    "### Practice problem 3 \n",
    "\n",
    "* In the cell below, Write a Python class called HL, which will be used to include a horizontal line when you print. \n",
    "\n",
    "* The class constructor should get a string s  and an integer l and when printed it should print l repetitions of the string s (*and the necessary newline characters*)."
   ]
  },
  {
   "cell_type": "code",
   "execution_count": null,
   "metadata": {},
   "outputs": [],
   "source": []
  }
 ],
 "metadata": {
  "kernelspec": {
   "display_name": "Python 3",
   "language": "python",
   "name": "python3"
  },
  "language_info": {
   "codemirror_mode": {
    "name": "ipython",
    "version": 3
   },
   "file_extension": ".py",
   "mimetype": "text/x-python",
   "name": "python",
   "nbconvert_exporter": "python",
   "pygments_lexer": "ipython3",
   "version": "3.7.6"
  }
 },
 "nbformat": 4,
 "nbformat_minor": 4
}
