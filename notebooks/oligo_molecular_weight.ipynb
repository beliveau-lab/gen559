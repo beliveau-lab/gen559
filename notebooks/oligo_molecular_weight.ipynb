{
 "cells": [
  {
   "cell_type": "markdown",
   "metadata": {},
   "source": [
    "# Gen559 dictionaries practice notebook\n",
    "### 2020.11.04"
   ]
  },
  {
   "cell_type": "markdown",
   "metadata": {},
   "source": [
    "Below in the variable 'mw_info' are the molecular weights (g/Mol) for RNA (A, C, G, U) and DNA bases (dA, dC, dG, dT) when incorporated into ssRNA and ssDNA oligos, respectively.  \n",
    "\n",
    "*Unless otherwise indiciated, you can assume there are no 5' monophosphate (P) or triphosphate (3P) groups to also consider when calculating the molecular weight of an oligo.*\n",
    "\n",
    "[Source](https://www.thermofisher.com/us/en/home/references/ambion-tech-support/rna-tools-and-calculators/dna-and-rna-molecular-weights-and-conversions.html)"
   ]
  },
  {
   "cell_type": "code",
   "execution_count": 1,
   "metadata": {},
   "outputs": [],
   "source": [
    "mw_info = 'A\\t329.2\\nC\\t305.2\\nG\\t345.2\\nU\\t306.2\\ndA\\t313.2\\ndC\\t289.2\\ndG\\t329.2\\ndT\\t304.2\\nP\\t79\\n3P\\t159'"
   ]
  },
  {
   "cell_type": "code",
   "execution_count": 2,
   "metadata": {
    "scrolled": true
   },
   "outputs": [
    {
     "name": "stdout",
     "output_type": "stream",
     "text": [
      "A\t329.2\n",
      "C\t305.2\n",
      "G\t345.2\n",
      "U\t306.2\n",
      "dA\t313.2\n",
      "dC\t289.2\n",
      "dG\t329.2\n",
      "dT\t304.2\n",
      "P\t79\n",
      "3P\t159\n"
     ]
    }
   ],
   "source": [
    "print (mw_info)"
   ]
  },
  {
   "cell_type": "markdown",
   "metadata": {},
   "source": [
    "### Practice problem 1a \n",
    "\n",
    "In the cell below, write out in words the major operational steps required to solve *Practice problem 1b*.\n",
    ">**Practice problem 1b** In the cell below, create and print a dictionary containing the nucleotides and molecular weights for the 'A', 'C', 'G', and 'T' DNA bases."
   ]
  },
  {
   "cell_type": "markdown",
   "metadata": {},
   "source": [
    "*  \n",
    "*  \n",
    "*  \n",
    "*  "
   ]
  },
  {
   "cell_type": "markdown",
   "metadata": {},
   "source": [
    "### Practice problem 1b  \n",
    "In the cell below, create and print a dictionary containing the nucleotides and molecular weights for the 'A', 'C', 'G', and 'T' DNA bases. "
   ]
  },
  {
   "cell_type": "code",
   "execution_count": null,
   "metadata": {},
   "outputs": [],
   "source": []
  },
  {
   "cell_type": "markdown",
   "metadata": {},
   "source": [
    "### Practice problem 2a  \n",
    "In the cell below, write out in words the major operational steps required to solve *Practice problem 2b*.\n",
    ">**Practice problem 2b** In the cell below, caluclate the molecular weight of the DNA oligo whose sequence stored in the 'my_DNA1' variable."
   ]
  },
  {
   "cell_type": "markdown",
   "metadata": {},
   "source": [
    "*  \n",
    "*  \n",
    "*  \n",
    "*  "
   ]
  },
  {
   "cell_type": "markdown",
   "metadata": {},
   "source": [
    "### Practice problem 2b  \n",
    "In the cell below, caluclate the molecular weight of the DNA oligo whose sequence stored in the 'my_DNA1' variable."
   ]
  },
  {
   "cell_type": "code",
   "execution_count": null,
   "metadata": {},
   "outputs": [],
   "source": [
    "my_DNA1 = 'TTAGGGTTAGGGTTAGGGTTAGGG'"
   ]
  },
  {
   "cell_type": "markdown",
   "metadata": {},
   "source": [
    "### Practice problem 3  \n",
    "In the cell below, calculate the molecular weight of the RNA oligo whose sequence is stored in the 'my_RNA1' variable. Your code should utilize a dictionary."
   ]
  },
  {
   "cell_type": "code",
   "execution_count": null,
   "metadata": {},
   "outputs": [],
   "source": [
    "my_RNA1 = 'CAUCGGACAUCACACA'"
   ]
  },
  {
   "cell_type": "markdown",
   "metadata": {},
   "source": [
    "### Practice problem 4 (challenge)  \n",
    "In the cell below, calculate the molecular weight of the DNA/RNA heteroduplex of the 'my_DNA1' DNA oligo paired with its RNA reverse complement. Assume the DNA oligo has a single 5' phosphate group (\"P\" in the weights table above) and the RNA oligo has a 5' triphosphate group (\"3P\" in the table above)."
   ]
  },
  {
   "cell_type": "code",
   "execution_count": null,
   "metadata": {},
   "outputs": [],
   "source": []
  }
 ],
 "metadata": {
  "kernelspec": {
   "display_name": "Python 3",
   "language": "python",
   "name": "python3"
  },
  "language_info": {
   "codemirror_mode": {
    "name": "ipython",
    "version": 3
   },
   "file_extension": ".py",
   "mimetype": "text/x-python",
   "name": "python",
   "nbconvert_exporter": "python",
   "pygments_lexer": "ipython3",
   "version": "3.7.6"
  }
 },
 "nbformat": 4,
 "nbformat_minor": 4
}
