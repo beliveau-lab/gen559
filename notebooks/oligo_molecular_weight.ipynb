{
 "cells": [
  {
   "cell_type": "markdown",
   "metadata": {},
   "source": [
    "Below in the variable 'mw_info' are the molecular weights for RNA (A, C, G, U) and DNA bases (dA, dC, dG, dT)"
   ]
  },
  {
   "cell_type": "code",
   "execution_count": null,
   "metadata": {},
   "outputs": [],
   "source": [
    "mw_info = 'A\\t507.2\\nC\\t483.2\\nG\\t523.2\\nU\\t484.2\\ndA\\t491.2\\ndC\\t467.2\\ndG\\t507.2\\ndT\\t482.2\\nP\\t79\\n3P\\t159'"
   ]
  },
  {
   "cell_type": "code",
   "execution_count": null,
   "metadata": {
    "scrolled": true
   },
   "outputs": [],
   "source": [
    "print (mw_info)"
   ]
  },
  {
   "cell_type": "markdown",
   "metadata": {},
   "source": [
    "Practice problem # 1: Create and print a dictionary containing the nucleotides and molecular weights for the 'A', 'C', 'G', and 'T' DNA bases. "
   ]
  },
  {
   "cell_type": "code",
   "execution_count": null,
   "metadata": {},
   "outputs": [],
   "source": []
  },
  {
   "cell_type": "markdown",
   "metadata": {},
   "source": [
    "Practice problem # 2: In the cell below, caluclate the molecular weight of the DNA oligo whose sequence stored in the 'my_DNA1' variable."
   ]
  },
  {
   "cell_type": "code",
   "execution_count": null,
   "metadata": {},
   "outputs": [],
   "source": [
    "my_DNA1 = 'TTAGGGTTAGGGTTAGGGTTAGGG'"
   ]
  },
  {
   "cell_type": "markdown",
   "metadata": {},
   "source": [
    "Practice problem # 3: In the cell below, calculate the molecular weight of the RNA oligo whose sequence is stored in the 'my_RNA1' variable. Your code should utilize a dictionary."
   ]
  },
  {
   "cell_type": "code",
   "execution_count": null,
   "metadata": {},
   "outputs": [],
   "source": [
    "my_RNA1 = 'CAUCGGACAUCACACA'"
   ]
  },
  {
   "cell_type": "markdown",
   "metadata": {},
   "source": [
    "Practice problem # 4 (challenge): In the cell below, calculate the molecular weight of the DNA/RNA heteroduplex of the 'my_DNA1' DNA oligo paired with its RNA reverse complement. Assume the DNA oligo has a single 5' phosphate group (\"P\" in the weights table above) and the RNA oligo has a 5' triphosphate group (\"3P\" in the table above)."
   ]
  },
  {
   "cell_type": "code",
   "execution_count": null,
   "metadata": {},
   "outputs": [],
   "source": []
  }
 ],
 "metadata": {
  "kernelspec": {
   "display_name": "Python 3",
   "language": "python",
   "name": "python3"
  },
  "language_info": {
   "codemirror_mode": {
    "name": "ipython",
    "version": 3
   },
   "file_extension": ".py",
   "mimetype": "text/x-python",
   "name": "python",
   "nbconvert_exporter": "python",
   "pygments_lexer": "ipython3",
   "version": "3.7.6"
  }
 },
 "nbformat": 4,
 "nbformat_minor": 4
}
