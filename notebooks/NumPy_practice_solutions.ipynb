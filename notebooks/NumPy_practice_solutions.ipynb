{
 "cells": [
  {
   "cell_type": "markdown",
   "metadata": {},
   "source": [
    "# Gen559 NumPy practice notebook\n",
    "### 2020.11.25"
   ]
  },
  {
   "cell_type": "markdown",
   "metadata": {},
   "source": [
    "### Practice problem 1a \n",
    "\n",
    "In the cell below, write out in words the major operational steps required to solve **Practice problem 1b**.\n",
    ">The file *gm12878.hg38.vcf* contains information about genetic variation in a cell line that is part of the [HapMap Project](https://www.coriell.org/1/NIGMS/Collections/HapMap-project?gclid=CjwKCAiA2O39BRBjEiwApB2IklG_xOJwN12uISiqhihv2xu2U8GJc1dPvd1pvLLcsZurn2iksDxkUxoCieAQAvD_BwE). \n",
    "\n",
    ">The format of the file is: CHROM \\t POS \\t ID \\t REF \\t ALT \\t QUAL \\t FILTER \\t INFO \\t FORMAT \\t NA12878\n",
    "\n",
    ">*CHROM = chromosome; POS = position; REF = allele in reference genome; ALT = alternate allele*\n",
    "\n",
    ">*On mac, you can unzip by running the command 'gunzip gm12878.hg38.vcf.gz'. On Windows, you can use [7-Zip](https://www.7-zip.org/).*\n",
    "\n",
    ">* In the cell below, write a function that calculates the mean, median, and standard deviation for distances between single nucleotide variants (SNVs) on a specified chromosome.\n",
    ">* Use NumPy to calculate the requested summary statistics.\n",
    ">* Be sure to avoid header lines beginging with '#'\n",
    ">* The file also contains infomration about indels, advoid these lines too. Only consider SNVs in your calculations.\n",
    ">* Run your function on chrX and print the result."
   ]
  },
  {
   "cell_type": "markdown",
   "metadata": {},
   "source": [
    "* Create function to open and parse .vcf file\n",
    "* Extract file contents, add coordinates to list\n",
    "* Build in logic to exclude header lines and non-SNV lines\n",
    "* Calculate distances between SNVs\n",
    "* Return summary stat info about distances"
   ]
  },
  {
   "cell_type": "markdown",
   "metadata": {},
   "source": [
    "### Practice problem 1b\n",
    "\n",
    "The file *gm12878.hg38.vcf* contains information about genetic variation in a cell line that is part of the [HapMap Project](https://www.coriell.org/1/NIGMS/Collections/HapMap-project?gclid=CjwKCAiA2O39BRBjEiwApB2IklG_xOJwN12uISiqhihv2xu2U8GJc1dPvd1pvLLcsZurn2iksDxkUxoCieAQAvD_BwE). \n",
    "\n",
    "The format of the file is: CHROM \\t POS \\t ID \\t REF \\t ALT \\t QUAL \\t FILTER \\t INFO \\t FORMAT \\t NA12878\n",
    "\n",
    "*CHROM = chromosome; POS = position; REF = allele in reference genome; ALT = alternate allele*\n",
    "\n",
    "*On mac, you can unzip by running the command 'gunzip gm12878.hg38.vcf.gz'. On Windows, you can use [7-Zip](https://www.7-zip.org/).*\n",
    "\n",
    "* In the cell below, write a function that calculates the mean, median, and standard deviation for distances between single nucleotide variants (SNVs) on a specified chromosome.\n",
    "* Use NumPy to calculate the requested summary statistics.\n",
    "* Be sure to avoid header lines beginging with '#'\n",
    "* The file also contains infomration about indels, advoid these lines too. Only consider SNVs in your calculations.\n",
    "* Run your function on chrX and print the result."
   ]
  },
  {
   "cell_type": "code",
   "execution_count": 2,
   "metadata": {},
   "outputs": [
    {
     "name": "stdout",
     "output_type": "stream",
     "text": [
      "Mean distance between SNVs is 1397.79 bp\n",
      "Median distance between SNVs is 503.00 bp\n",
      "STD of distance between SNVs is 5729.88 bp\n"
     ]
    }
   ],
   "source": [
    "# Import NumPy.\n",
    "import numpy as np\n",
    "\n",
    "\n",
    "def get_distances(file, chrom):\n",
    "    '''Takes in name of vcf file, returns a list of distances between SNVs\n",
    "    from a specified chromosome'''\n",
    "    \n",
    "    ## Open input file for reading, parse out SNP coords as ints.\n",
    "    \n",
    "    # Open specified file.\n",
    "    with open(file, 'r') as f:\n",
    "        \n",
    "        # Create and populate a list of variant coordinates as integers. Skip header lines.\n",
    "        # Only consider line if length of 'REF' and 'ALT' both = 1, i.e. the\n",
    "        # line describes a SNV.\n",
    "        coords = [int(line.strip().split('\\t')[1]) for line in f \\\n",
    "        if line.strip().split(\"\\t\")[0][0]!='#' \\\n",
    "        and line.strip().split(\"\\t\")[0] == chrom \\\n",
    "        and len(line.strip().split(\"\\t\")[3]) == 1 \\\n",
    "        and len(line.strip().split(\"\\t\")[4]) == 1]\n",
    "\n",
    "    # Make list to hold output.\n",
    "    out_distances = []\n",
    "\n",
    "    # Iterate through file data, add distances to list where appropriate.\n",
    "    for i in range(0, len(coords)-1, 1):\n",
    "        out_distances.append((coords[i+1])-coords[i])\n",
    "\n",
    "    # Return list of distances.\n",
    "    return out_distances\n",
    "\n",
    "\n",
    "# Call function using user input.\n",
    "dist_list = get_distances('gm12878.hg38.vcf', 'chrX')\n",
    "\n",
    "# Create numpy array.\n",
    "dist_array = np.asarray(dist_list)\n",
    "\n",
    "# Calculate required metrics.\n",
    "print('Mean distance between SNVs is %0.2f bp' % (np.average(dist_array)))\n",
    "print('Median distance between SNVs is %0.2f bp' % (np.median(dist_array)))\n",
    "print('STD of distance between SNVs is %0.2f bp' % (np.std(dist_array)))"
   ]
  },
  {
   "cell_type": "markdown",
   "metadata": {},
   "source": [
    "### Practice problem 2\n",
    "\n",
    "* Use NumPy to write and print a 3 x 4 matrix of zeros.\n",
    "* Roll and round a random number generator 12 times to make a list of 0/1 values. Print your list.\n",
    "* Update your original matrix using the following coordiante transformations: list[0] = matrix[0][0], list[4] = matrix[1][0], etc.\n",
    "* Print the updated matrix."
   ]
  },
  {
   "cell_type": "code",
   "execution_count": 4,
   "metadata": {},
   "outputs": [
    {
     "name": "stdout",
     "output_type": "stream",
     "text": [
      "[[0. 0. 0. 0.]\n",
      " [0. 0. 0. 0.]\n",
      " [0. 0. 0. 0.]]\n",
      "[1, 0, 0, 1, 0, 0, 1, 1, 0, 1, 0, 1]\n",
      "[[1. 0. 0. 1.]\n",
      " [0. 0. 1. 1.]\n",
      " [0. 1. 0. 1.]]\n"
     ]
    }
   ],
   "source": [
    "a = np.zeros((3,4))\n",
    "b = [round(np.random.random()) for x in range (12)]\n",
    "\n",
    "print (a)\n",
    "print (b)\n",
    "\n",
    "for i in range(0, 3, 1):\n",
    "    for j in range(0,4,1):\n",
    "        ind = 4*i + j\n",
    "        a[i][j] = b[ind]\n",
    "\n",
    "print (a)"
   ]
  }
 ],
 "metadata": {
  "kernelspec": {
   "display_name": "Python 3",
   "language": "python",
   "name": "python3"
  },
  "language_info": {
   "codemirror_mode": {
    "name": "ipython",
    "version": 3
   },
   "file_extension": ".py",
   "mimetype": "text/x-python",
   "name": "python",
   "nbconvert_exporter": "python",
   "pygments_lexer": "ipython3",
   "version": "3.7.6"
  }
 },
 "nbformat": 4,
 "nbformat_minor": 4
}
