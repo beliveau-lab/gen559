{
 "cells": [
  {
   "cell_type": "markdown",
   "metadata": {},
   "source": [
    "# Gen559 argparse practice notebook\n",
    "### 2020.12.02"
   ]
  },
  {
   "cell_type": "markdown",
   "metadata": {},
   "source": [
    "### Practice problem 1 \n",
    "\n",
    "Create a command line script, *proccess-vcf.py* that contains an argument parser. Add the following features to your argument parser:\n",
    "\n",
    "1. Specify the .vcf file to operate on. **This argument should be required.**      \n",
    "\n",
    "   \n",
    "   \n",
    "2. Specifiy the chromosome to extract information about. **This should be required but have a default value of 'chr1'.**  \n",
    "\n",
    "\n",
    "3. Specify which variant type of the possiblities defined below should be extracted. **The user should only be allowed to specify one type, i.e. these should be mutually exclusive options:**\n",
    "   * Single nucleotide change from Reference\n",
    "   * Insertion relative to Reference\n",
    "   * Deletion relative to Reference     \n",
    "   \n",
    "   \n",
    "4. Specify the stem of the name of the output file that will be produced. E.g \"my_variants\" for the output file *my_variants.vcf*\n",
    "\n",
    "Run your script using the Terminal (OS X, Linux, UNIX) or Command Prompt (Windows) on *gm12878.hg38.vcf* and demonstrate its functionality.\n",
    "\n",
    "You may use the cell below to write out your code if you do not feel comfortable using an IDE, but be advised notebooks do not have the ability to properly execute argparse. *Hint: if needed, you can write all of the necessary logic to build your parser as functions in the notebook to test their function.*\n"
   ]
  },
  {
   "cell_type": "code",
   "execution_count": null,
   "metadata": {},
   "outputs": [],
   "source": []
  },
  {
   "cell_type": "markdown",
   "metadata": {},
   "source": [
    "### Practice problem 2\n",
    "\n",
    "Use *process-vcf.py* on *gm12878.hg38.vcf* to extract both insertion and deletion variants from chr17. In the cell below, write code to parse the output files and determine the number and average length of the both the insertion and deletion variants. Print your results. \n"
   ]
  },
  {
   "cell_type": "code",
   "execution_count": null,
   "metadata": {},
   "outputs": [],
   "source": []
  }
 ],
 "metadata": {
  "kernelspec": {
   "display_name": "Python 3",
   "language": "python",
   "name": "python3"
  },
  "language_info": {
   "codemirror_mode": {
    "name": "ipython",
    "version": 3
   },
   "file_extension": ".py",
   "mimetype": "text/x-python",
   "name": "python",
   "nbconvert_exporter": "python",
   "pygments_lexer": "ipython3",
   "version": "3.7.6"
  }
 },
 "nbformat": 4,
 "nbformat_minor": 4
}
