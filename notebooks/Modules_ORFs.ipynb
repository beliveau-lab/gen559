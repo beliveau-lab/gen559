{
 "cells": [
  {
   "cell_type": "markdown",
   "metadata": {},
   "source": [
    "# Gen559 modules practice: ORFs\n",
    "### 2020.11.18"
   ]
  },
  {
   "cell_type": "markdown",
   "metadata": {},
   "source": [
    "*For the problems in this notebook, you will need two input files that can be downloaded from Canvas and https://github.com/beliveau-lab/gen559/tree/main/notebooks: codons.txt and plasmid.fa"
   ]
  },
  {
   "cell_type": "markdown",
   "metadata": {},
   "source": [
    "### Practice problem 1a \n",
    "\n",
    "In the cell below, write out in words the major operational steps required to solve **Practice problem 1b**.\n",
    ">In the cell below, write a function that finds open reading frames (ORFs) in an input DNA sequence. Your code only needs to consider the sense / + strand and should return a list with any ORFs found and their lengths in amino acids. Alert  the user if no valid ORFs are found. Demonstrate the functionality of your code on an input sequence of your own creation. Hint: open reading frames are contiguous stretches of DNA that code for proteins using triplet codons, starting with ATG and ending with a stop codon."
   ]
  },
  {
   "cell_type": "markdown",
   "metadata": {},
   "source": [
    "*  \n",
    "*  \n",
    "*  \n",
    "* "
   ]
  },
  {
   "cell_type": "markdown",
   "metadata": {},
   "source": [
    "### Practice problem 1b\n",
    "In the cell below, write a function that finds open reading frames (ORFs) in an input DNA sequence. Your code only needs to consider the sense / + strand and should return a list with any ORFs found and their lengths in amino acids. Alert  the user if no valid ORFs are found. Demonstrate the functionality of your code on an input sequence of your own creation. *Hint: open reading frames are contiguous stretches of DNA that code for proteins using triplet codons, starting with ATG and ending with a stop codon*."
   ]
  },
  {
   "cell_type": "code",
   "execution_count": null,
   "metadata": {},
   "outputs": [],
   "source": []
  },
  {
   "cell_type": "markdown",
   "metadata": {},
   "source": [
    "### Practice problem 2a \n",
    "\n",
    "In the cell below, write out in words the major operational steps required to solve **Practice problem 2b**.\n",
    ">In the cell below, write a function that translates an ORF in an input DNA sequence. Alert  the user if no valid ORF is found. Your function can be built to expect one ORF per input sequence, and in the case of nested ORFs return the protein product of the largest ORF. Demonstrate the functionality of your code on an input sequence of your own creation."
   ]
  },
  {
   "cell_type": "markdown",
   "metadata": {},
   "source": [
    "*  \n",
    "*  \n",
    "*  \n",
    "* "
   ]
  },
  {
   "cell_type": "markdown",
   "metadata": {},
   "source": [
    "### Practice problem 2b\n",
    "In the cell below, write a function that translates an ORF in an input DNA sequence. Alert  the user if no valid ORF is found. Your function can be built to expect one ORF per input sequence, and in the case of nested ORFs return the protein product of the largest ORF. Demonstrate the functionality of your code on an input sequence of your own creation."
   ]
  },
  {
   "cell_type": "code",
   "execution_count": null,
   "metadata": {},
   "outputs": [],
   "source": []
  },
  {
   "cell_type": "markdown",
   "metadata": {},
   "source": [
    "### Practice problem 3\n",
    "Create a new Python script containing the functions from **Probem 1b** and **Problem 2b**, ORF_utils.py, in the same directory as this notebook. Import ORF_utils.py as a module, and use its functions to identify and translate any ORFs present in plasmid.fa. Print the returns from each function."
   ]
  },
  {
   "cell_type": "code",
   "execution_count": null,
   "metadata": {},
   "outputs": [],
   "source": []
  }
 ],
 "metadata": {
  "kernelspec": {
   "display_name": "Python 3",
   "language": "python",
   "name": "python3"
  },
  "language_info": {
   "codemirror_mode": {
    "name": "ipython",
    "version": 3
   },
   "file_extension": ".py",
   "mimetype": "text/x-python",
   "name": "python",
   "nbconvert_exporter": "python",
   "pygments_lexer": "ipython3",
   "version": "3.7.6"
  }
 },
 "nbformat": 4,
 "nbformat_minor": 4
}
