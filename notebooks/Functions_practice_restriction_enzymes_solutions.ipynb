{
 "cells": [
  {
   "cell_type": "markdown",
   "metadata": {},
   "source": [
    "# Gen559 functions practice 2: restriction enzymes\n",
    "### 2020.11.16"
   ]
  },
  {
   "cell_type": "markdown",
   "metadata": {},
   "source": [
    "### Practice problem 1a \n",
    "\n",
    "In the cell below, write out in words the major operational steps required to solve *Practice problem 1b*.\n",
    ">In the cell below, write a function that finds restriction sites for the enzyme HindIII (recognition site: 5' AAGCTT 3') in an input DNA sequence and returns a new DNA sequence in which the recognition site(s) are converted to lower case. Run your function on **DNA_seq** and print your result."
   ]
  },
  {
   "cell_type": "markdown",
   "metadata": {},
   "source": [
    "*  Define function that takes DNA sequence, restriction site as input\n",
    "*  Get rev complement of restriction site to check as well\n",
    "*  Scan through sequence using iterator or built-in method such as index()\n",
    "*  Create output data structure and populate, changing case when needed\n",
    "*  Return output\n",
    "*  Call function and print result"
   ]
  },
  {
   "cell_type": "code",
   "execution_count": 1,
   "metadata": {},
   "outputs": [],
   "source": [
    "# Here is a DNA sequence you will use for the problems in this notebook\n",
    "DNA_seq = 'CCCCATCCTTATTCCCTTTAAGAACGTTCTGATGGGCATCAAAAAGAATCCCTTTCCCCCATGCCACTGACCTCTAACATCTAGGCTCTGGCCTGTACCAGATGAGGAGGAAAGTGTCACTGTATAATCAATATTTATACAATTATAAGTCAGAGCTTTACAGAGGTGTCACCTAACAAAACGCATAAATGACTAAGAATCATTCCAAGTGTCACCATCAAGACCACCAGAATATCACTAAAATCTGCATTAGGATTATGTCTGTTGCTACTGGGATATCACTGACAAGTCTTTGAAGCTCATATGTCACACAATCTCCAGAAGGCCTCATACAATAGCAAATTGTTGCTTGTTACAATAATGTTATATTAAAAATGGCTACTCGTTGAAAAATTATCTTAAAACAAATTCCATTGTTTAGGTGCTTCCCATATTTAGACATTCAGATAAACAATCTACTACATAGTGCAATTTTAATTCCAACTCGCTCTTTCCCCTTTTGCTTCAACTCCCCTTTAAATATCCTATGCCATGTCTTTCTATACAACACAGGCACTTAAAAACAGAAATGCCTAAGCTATTTAGACTTTTGCCATTTTCTTCTCATCTTGCTGCAATCATGTTTTAACGGGATATTTAATTATAGATTCTACCATAGATTTACTGCCTTTCTTTGAAAATAGGAAACTCTTGGAGTAATTAAGAGCTAGCTCGTTCAGAAAGTACTATAGAAAAAGAAATTCCAATCTCTCAACAAGAAATTTAAAAATTCTTATAGAGAGGCTTAGCCTTTGAACAAAATATATAATAAAAAGCTTTCTTGTCCATGAATATTAAAACATTTCTTACCACATGGCTAATTCAAATTGGGGTTACAACAGTGAGTCAGAAAACCTTGCTCTAAATAGTGATCTGATGAGGACATTAAAGAGTATTTGATTTAAAAGCTTTTTTTTTTAAATCAACATTCTTATAAAATCTAGGCATCTACCTAGTTCAAAGTATATTCCAAACACTTAGAACTCTGTTATAGGAATAGCTAATAGTGTGATCTACAGCAGTCATTAACAGTTGCACATTAAAAAGAAATAGCAATAAAAAGATGGACACCCTGAGGTCAATGATTTCCTCCCAATAACCAAACAAATGTTCCAATAGCATAAACCAAAAGATGATGATAATTACTACAACATGTTATGTTAACCAACCTCCCTAGTCCCGCGCAATGAGCTCACAGAAGTCAGGATGTGCACAGGCTGTATCCTTCGCTGTTTCCATTCTTGGTTTAAGATTTCCGTTCTTTCCAAAATTTTCTGACGATTGGAACTAAACATACTCTTAAAAAAAAAAATGAAGGAGAGGAAAGGAGAAATTGTTCATTGTTAGAAAATGTATAACACCTGTAAAGCAGGTTAAAAATCTAGTGTATCCTCAAAAATATCAAGAACATTTTCTTAGGTGCATATAGATTTTACACTATAGTTTCCCACATTCAAATAATACAAAAACACCACATCTGTTATTTTATTGCAAGTGGTTAGAGAACAGGAN'"
   ]
  },
  {
   "cell_type": "markdown",
   "metadata": {},
   "source": [
    "### Practice problem 1b\n",
    "In the cell below, write a function that finds restriction sites for the enzyme HindIII (recognition site: 5' AAGCTT 3') in an input DNA sequence and returns a new DNA sequence in which the recognition site(s) are converted to lower case. Run your function on **DNA_seq** and print your result."
   ]
  },
  {
   "cell_type": "code",
   "execution_count": 2,
   "metadata": {},
   "outputs": [
    {
     "name": "stdout",
     "output_type": "stream",
     "text": [
      "CCCCATCCTTATTCCCTTTAAGAACGTTCTGATGGGCATCAAAAAGAATCCCTTTCCCCCATGCCACTGACCTCTAACATCTAGGCTCTGGCCTGTACCAGATGAGGAGGAAAGTGTCACTGTATAATCAATATTTATACAATTATAAGTCAGAGCTTTACAGAGGTGTCACCTAACAAAACGCATAAATGACTAAGAATCATTCCAAGTGTCACCATCAAGACCACCAGAATATCACTAAAATCTGCATTAGGATTATGTCTGTTGCTACTGGGATATCACTGACAAGTCTTTGAAGCTCATATGTCACACAATCTCCAGAAGGCCTCATACAATAGCAAATTGTTGCTTGTTACAATAATGTTATATTAAAAATGGCTACTCGTTGAAAAATTATCTTAAAACAAATTCCATTGTTTAGGTGCTTCCCATATTTAGACATTCAGATAAACAATCTACTACATAGTGCAATTTTAATTCCAACTCGCTCTTTCCCCTTTTGCTTCAACTCCCCTTTAAATATCCTATGCCATGTCTTTCTATACAACACAGGCACTTAAAAACAGAAATGCCTAAGCTATTTAGACTTTTGCCATTTTCTTCTCATCTTGCTGCAATCATGTTTTAACGGGATATTTAATTATAGATTCTACCATAGATTTACTGCCTTTCTTTGAAAATAGGAAACTCTTGGAGTAATTAAGAGCTAGCTCGTTCAGAAAGTACTATAGAAAAAGAAATTCCAATCTCTCAACAAGAAATTTAAAAATTCTTATAGAGAGGCTTAGCCTTTGAACAAAATATATAATAAAaagcttTCTTGTCCATGAATATTAAAACATTTCTTACCACATGGCTAATTCAAATTGGGGTTACAACAGTGAGTCAGAAAACCTTGCTCTAAATAGTGATCTGATGAGGACATTAAAGAGTATTTGATTTAAaagcttTTTTTTTTAAATCAACATTCTTATAAAATCTAGGCATCTACCTAGTTCAAAGTATATTCCAAACACTTAGAACTCTGTTATAGGAATAGCTAATAGTGTGATCTACAGCAGTCATTAACAGTTGCACATTAAAAAGAAATAGCAATAAAAAGATGGACACCCTGAGGTCAATGATTTCCTCCCAATAACCAAACAAATGTTCCAATAGCATAAACCAAAAGATGATGATAATTACTACAACATGTTATGTTAACCAACCTCCCTAGTCCCGCGCAATGAGCTCACAGAAGTCAGGATGTGCACAGGCTGTATCCTTCGCTGTTTCCATTCTTGGTTTAAGATTTCCGTTCTTTCCAAAATTTTCTGACGATTGGAACTAAACATACTCTTAAAAAAAAAAATGAAGGAGAGGAAAGGAGAAATTGTTCATTGTTAGAAAATGTATAACACCTGTAAAGCAGGTTAAAAATCTAGTGTATCCTCAAAAATATCAAGAACATTTTCTTAGGTGCATATAGATTTTACACTATAGTTTCCCACATTCAAATAATACAAAAACACCACATCTGTTATTTTATTGCAAGTGGTTAGAGAACAGGAN\n"
     ]
    }
   ],
   "source": [
    "def re_lower(seq, site):\n",
    "    '''Takes in a DNA sequence and returns an annotated sequence where the specified RE sites coverted to lower case'''\n",
    "    \n",
    "    # Create dictionary with DNA complementarities.\n",
    "    comps = {'A':'T', 'C':'G', 'G':'C', 'T':'A'}\n",
    "    \n",
    "    # Make list to hold reverse complement bases\n",
    "    rev_comp = []\n",
    "    \n",
    "    # Generate reverse complement of input restriction site.\n",
    "    for base in reversed(site):\n",
    "        rev_comp.append(comps[base])\n",
    "    \n",
    "    # Create a list to hold indices of match start sites\n",
    "    starts = []\n",
    "\n",
    "    # Iterate through input sequence, adding the indices of any matches to 'starts'.\n",
    "    for i in range(0, len(seq)-len(site), 1):\n",
    "        if seq[i:i+len(site)] == site or seq[i:i+len(site)] == ''.join(rev_comp):\n",
    "            starts.append(i)\n",
    "\n",
    "    # Create list to hold annotated sequence to return.\n",
    "    output_seq = []\n",
    "    \n",
    "    ## Populate output_seq, using lower() method to convert DNA characters if in a re site.\n",
    "    \n",
    "    # Creatve a variable to keep track of position in string\n",
    "    current_index = 0\n",
    "    \n",
    "    # Use start positions of restriction site matches to divide the DNA string into upper() and lower() intervals.\n",
    "    for i in range(0, len(starts), 1):\n",
    "        \n",
    "        # Append interval upstream of first re site as uppercase, i.e. umodiified from input.\n",
    "        output_seq.append(seq[current_index:starts[i]])\n",
    "        \n",
    "        # Append re site as lowercase.\n",
    "        output_seq.append(seq[starts[i]:starts[i]+len(site)].lower())\n",
    "        \n",
    "        # Update current_index variable.\n",
    "        current_index = starts[i] + len(site)\n",
    "        \n",
    "    # Check to see if at end of string, add remainder of sequence as uppercase to output_list if not.\n",
    "    if current_index < len(seq):\n",
    "        output_seq.append(seq[current_index:len(seq)])\n",
    "        \n",
    "    # Return an annotated version of the sequence, using the .join() method.\n",
    "    return ''.join(output_seq)\n",
    "\n",
    "print(re_lower(DNA_seq, 'AAGCTT'))"
   ]
  },
  {
   "cell_type": "markdown",
   "metadata": {},
   "source": [
    "### Practice problem 2a \n",
    "\n",
    "In the cell below, write out in words the major operational steps required to solve *Practice problem 2b*.\n",
    ">In the cell below, write a function that finds restriction sites for the enzyme ApoI (recognition site: 5' RAATTY 3'; R = A or G, i.e. a purine; Y = C or T, i.e. a pyrmidine.) in an input DNA sequence and returns a list of DNA fragments produced by cutting with ApoI. ApoI's cut pattern is 5' R *cut* AATTY 3'. Run your function on **DNA_seq** and print your result."
   ]
  },
  {
   "cell_type": "markdown",
   "metadata": {},
   "source": [
    "*  Define a function that takes in a DNA sequence and a list of restriction sites as input\n",
    "*  Scan through sequence using iterator or built-in method such as index()\n",
    "*  Create output data structure and populate, factoring in the result of the enzyme cutting\n",
    "*  Return output\n",
    "*  Call function and print result"
   ]
  },
  {
   "cell_type": "markdown",
   "metadata": {},
   "source": [
    "### Practice problem 2b\n",
    "In the cell below, write a function that finds restriction sites for the enzyme ApoI (recognition site: 5' RAATTY 3'; R = A or G, i.e. a purine; Y = C or T, i.e. a pyrmidine.) in an input DNA sequence and returns a list of DNA fragments produced by cutting with ApoI. ApoI's cut pattern is 5' R *cut* AATTY 3'. Run your function on **DNA_seq** and print your result."
   ]
  },
  {
   "cell_type": "code",
   "execution_count": 3,
   "metadata": {},
   "outputs": [
    {
     "name": "stdout",
     "output_type": "stream",
     "text": [
      "['CCCCATCCTTATTCCCTTTAAGAACGTTCTGATGGGCATCAAAAAGAATCCCTTTCCCCCATGCCACTGACCTCTAACATCTAGGCTCTGGCCTGTACCAGATGAGGAGGAAAGTGTCACTGTATAATCAATATTTATACAATTATAAGTCAGAGCTTTACAGAGGTGTCACCTAACAAAACGCATAAATGACTAAGAATCATTCCAAGTGTCACCATCAAGACCACCAGAATATCACTAAAATCTGCATTAGGATTATGTCTGTTGCTACTGGGATATCACTGACAAGTCTTTGAAGCTCATATGTCACACAATCTCCAGAAGGCCTCATACAATAGCAAATTGTTGCTTGTTACAATAATGTTATATTAAAAATGGCTACTCGTTGAAAAATTATCTTAAAACA', 'AATTCCATTGTTTAGGTGCTTCCCATATTTAGACATTCAGATAAACAATCTACTACATAGTGCAATTTTAATTCCAACTCGCTCTTTCCCCTTTTGCTTCAACTCCCCTTTAAATATCCTATGCCATGTCTTTCTATACAACACAGGCACTTAAAAACAGAAATGCCTAAGCTATTTAGACTTTTGCCATTTTCTTCTCATCTTGCTGCAATCATGTTTTAACGGGATATTTAATTATAGATTCTACCATAGATTTACTGCCTTTCTTTGAAAATAGGAAACTCTTGGAGTAATTAAGAGCTAGCTCGTTCAGAAAGTACTATAGAAAAAGA', 'AATTCCAATCTCTCAACAAGA', 'AATTTAAA', 'AATTCTTATAGAGAGGCTTAGCCTTTGAACAAAATATATAATAAAAAGCTTTCTTGTCCATGAATATTAAAACATTTCTTACCACATGGCTAATTCAAATTGGGGTTACAACAGTGAGTCAGAAAACCTTGCTCTAAATAGTGATCTGATGAGGACATTAAAGAGTATTTGATTTAAAAGCTTTTTTTTTTAAATCAACATTCTTATAAAATCTAGGCATCTACCTAGTTCAAAGTATATTCCAAACACTTAGAACTCTGTTATAGGAATAGCTAATAGTGTGATCTACAGCAGTCATTAACAGTTGCACATTAAAAAGAAATAGCAATAAAAAGATGGACACCCTGAGGTCAATGATTTCCTCCCAATAACCAAACAAATGTTCCAATAGCATAAACCAAAAGATGATGATAATTACTACAACATGTTATGTTAACCAACCTCCCTAGTCCCGCGCAATGAGCTCACAGAAGTCAGGATGTGCACAGGCTGTATCCTTCGCTGTTTCCATTCTTGGTTTAAGATTTCCGTTCTTTCCAA', 'AATTTTCTGACGATTGGAACTAAACATACTCTTAAAAAAAAAAATGAAGGAGAGGAAAGGAGAAATTGTTCATTGTTAGAAAATGTATAACACCTGTAAAGCAGGTTAAAAATCTAGTGTATCCTCAAAAATATCAAGAACATTTTCTTAGGTGCATATAGATTTTACACTATAGTTTCCCACATTCAAATAATACAAAAACACCACATCTGTTATTTTATTGCAAGTGGTTAGAGAACAGGAN']\n"
     ]
    }
   ],
   "source": [
    "def re_fragments(seq, sites):\n",
    "    '''Takes in a DNA sequence and a list of specified RE sites, return a list of fragments produced by the digest'''\n",
    "    \n",
    "    # Create dictionary with DNA complementarities.\n",
    "    comps = {'A':'T', 'C':'G', 'G':'C', 'T':'A'}\n",
    "    \n",
    "    # Make list to hold reverse complement bases\n",
    "    sites_rev_comps = []\n",
    "    \n",
    "    ## Generate reverse complements of input restriction sites.\n",
    "    \n",
    "    # Process one site at a time.\n",
    "    for site in sites:\n",
    "        \n",
    "        # Make list to hold reverse complement sequence.\n",
    "        revc_seq = []\n",
    "        \n",
    "        # Add bases to revc_seq list one at a time.\n",
    "        for base in reversed(site):\n",
    "            revc_seq.append(comps[base])\n",
    "        \n",
    "        # Use .join() method to make reverse complement seq into string, add to sites_rev_comps.\n",
    "        sites_rev_comps.append(''.join(revc_seq))\n",
    "    \n",
    "    # Create a list to hold indices of match start sites\n",
    "    site_starts = []\n",
    "\n",
    "    ## Iterate through input sequence, adding the indices of any matches to 'site_starts'.\n",
    "    \n",
    "    # Move through restriction sites one by one\n",
    "    for i in range(0, len(sites), 1):  \n",
    "        \n",
    "        # Scan DNA seq for the selected sites, adding position of start of match to 'site_starts'\n",
    "        for j in range(0, len(seq)-len(sites[i]), 1):\n",
    "            if seq[j:j+len(sites[i])] == sites[i] or seq[j:j+len(sites_rev_comps[i])] == sites_rev_comps[i]:\n",
    "                \n",
    "                # Check to see if we've already added, add if not.\n",
    "                if j not in site_starts:\n",
    "                    site_starts.append(j)\n",
    "    \n",
    "    # Sort site_starts list\n",
    "    site_starts.sort()\n",
    "    \n",
    "    # Create list to hold output.\n",
    "    fragments = []\n",
    "    \n",
    "    ## Populate fragments, using cut rules given in question prompt. Could generalize with another function arg.\n",
    "    \n",
    "    # Creatve a variable to keep track of position in string\n",
    "    current_index = 0\n",
    "    \n",
    "    # Use start positions of restriction site matches to identify DNA fragments to return.\n",
    "    for i in range(0, len(site_starts), 1):\n",
    "        \n",
    "        # Check to see if recognition site is on the + aka 'sense' strand.\n",
    "        if seq[site_starts[i]:site_starts[i]+len(site)] in sites:\n",
    "        \n",
    "            # Append interval upstream of first re site and the 5' most base of cut site.\n",
    "            fragments.append(seq[current_index:site_starts[i]+1])\n",
    "\n",
    "            # Update current_index variable.\n",
    "            current_index = site_starts[i] + 1\n",
    "            \n",
    "        # If not, cut on other side of site.\n",
    "        else:\n",
    "            # Append interval upstream of first re site and the five 5' most base of cut site.\n",
    "            fragments.append(seq[current_index:site_starts[i]+5])\n",
    "\n",
    "            # Update current_index variable.\n",
    "            current_index = site_starts[i] + 5\n",
    "        \n",
    "    # Check to see if at end of string, add remainder of sequence as uppercase to output_list if not.\n",
    "    if current_index < len(seq):\n",
    "        fragments.append(seq[current_index:len(seq)])\n",
    "    \n",
    "    # Return the list of fragments produced.\n",
    "    return fragments\n",
    "\n",
    "\n",
    "print(re_fragments(DNA_seq, ['AAATTC', 'AAATTT', 'GAATTC', 'GAATTT']))"
   ]
  },
  {
   "cell_type": "markdown",
   "metadata": {},
   "source": [
    "*Note: In order to make the function in 2b more robust to different restriction enzyme patterns, we could make a function that took DNA sequence and a list of restriction enzymes + their cut patterns as inputs.*"
   ]
  },
  {
   "cell_type": "code",
   "execution_count": null,
   "metadata": {},
   "outputs": [],
   "source": []
  }
 ],
 "metadata": {
  "kernelspec": {
   "display_name": "Python 3",
   "language": "python",
   "name": "python3"
  },
  "language_info": {
   "codemirror_mode": {
    "name": "ipython",
    "version": 3
   },
   "file_extension": ".py",
   "mimetype": "text/x-python",
   "name": "python",
   "nbconvert_exporter": "python",
   "pygments_lexer": "ipython3",
   "version": "3.7.6"
  }
 },
 "nbformat": 4,
 "nbformat_minor": 4
}
