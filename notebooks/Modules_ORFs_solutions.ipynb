{
 "cells": [
  {
   "cell_type": "markdown",
   "metadata": {},
   "source": [
    "# Gen559 modules practice: ORFs\n",
    "### 2020.11.18"
   ]
  },
  {
   "cell_type": "markdown",
   "metadata": {},
   "source": [
    "*For the problems in this notebook, you will need two input files that can be downloaded from Canvas and https://github.com/beliveau-lab/gen559/tree/main/notebooks: codons.txt and plasmid.fa"
   ]
  },
  {
   "cell_type": "markdown",
   "metadata": {},
   "source": [
    "### Practice problem 1a \n",
    "\n",
    "In the cell below, write out in words the major operational steps required to solve **Practice problem 1b**.\n",
    ">In the cell below, write a function that finds open reading frames (ORFs) in an input DNA sequence. Your code only needs to consider the sense / + strand and should return a list with any ORFs found and their lengths in amino acids. Alert  the user if no valid ORFs are found. Demonstrate the functionality of your code on an input sequence of your own creation. Hint: open reading frames are contiguous stretches of DNA that code for proteins using triplet codons, starting with ATG and ending with a stop codon."
   ]
  },
  {
   "cell_type": "markdown",
   "metadata": {},
   "source": [
    "*  Define function that takes a block of DNA sequence as input\n",
    "*  Search input DNA sequence for the presence of start codons and in-frame stop codons\n",
    "*  Record the positions of any ORFs in the input, alert user if none found\n",
    "*  Return any identified ORFs and their lengths"
   ]
  },
  {
   "cell_type": "markdown",
   "metadata": {},
   "source": [
    "### Practice problem 1b\n",
    "In the cell below, write a function that finds open reading frames (ORFs) in an input DNA sequence. Your code only needs to consider the sense / + strand and should return a list with any ORFs found and their lengths in amino acids. Alert  the user if no valid ORFs are found. Demonstrate the functionality of your code on an input sequence of your own creation. *Hint: open reading frames are contiguous stretches of DNA that code for proteins using triplet codons, starting with ATG and ending with a stop codon*."
   ]
  },
  {
   "cell_type": "code",
   "execution_count": 64,
   "metadata": {},
   "outputs": [
    {
     "name": "stdout",
     "output_type": "stream",
     "text": [
      "['ATGAAATAA\\t2.0']\n",
      "Warning, no valid ORFs found!\n",
      "None\n"
     ]
    }
   ],
   "source": [
    "def get_ORFs(seq):\n",
    "    '''Identifies ORFs in input DNA sequence and returns the positions and lengths of any found'''\n",
    "    \n",
    "    # Create a list to hold function return.\n",
    "    output_list = []\n",
    "    \n",
    "    ## Iterate through input sequence, looking for valid ORFs.\n",
    "    \n",
    "    # Create variable to keep track of index in sequence.\n",
    "    idx = 0\n",
    "    \n",
    "    # Loop through input DNA sequence in windows of 3 nt.\n",
    "    for i in range(idx, len(seq)-2, 1):\n",
    "        window = seq[i:i+3]\n",
    "        \n",
    "        # Check if current window is a start codon.\n",
    "        if window == \"ATG\":\n",
    "            \n",
    "            ## If so, search for a stop codon.\n",
    "            \n",
    "            # Create and populate a list of in-frame codons.\n",
    "            in_frame_codons = []\n",
    "            for j in range(i, len(seq)-i, 3):\n",
    "                in_frame_codons.append(seq[j:j+3])\n",
    "            \n",
    "            # Search for a stop codon in in_frame_codons.\n",
    "            if \"TGA\" or \"TAA\" or \"TAG\" in in_frame_codons:\n",
    "                for k in range(0, len(in_frame_codons), 1):\n",
    "                    if in_frame_codons[k] in [\"TGA\", \"TAA\", \"TAG\"]:\n",
    "                        \n",
    "                        # If found, add ORF info to output list.\n",
    "                        ORF_seq = seq[i:k*3+3]\n",
    "                        ORF_len = len(ORF_seq)/ 3 - 1\n",
    "                        output_list.append('%s\\t%s' % (ORF_seq, ORF_len))\n",
    " \n",
    "                        # Update idx variable.\n",
    "                        idx = i\n",
    "                                           \n",
    "    # Check if output list is empty:\n",
    "    if len(output_list) == 0:\n",
    "        print('Warning, no valid ORFs found!')\n",
    "        \n",
    "    else:\n",
    "        return output_list\n",
    "    \n",
    "                \n",
    "        \n",
    "\n",
    "\n",
    "        \n",
    "    \n",
    "# Create simple test sequences for function. seq1 has an ORF, seq2 does not.\n",
    "seq1 = 'ATGAAATAAATGAAAAAACATGA'\n",
    "seq2 = 'ACCAAACAA'\n",
    "\n",
    "print(get_ORFs(seq1))\n",
    "print(get_ORFs(seq2))\n",
    "\n",
    "# with open('plasmid.fa', 'r') as f:\n",
    "#     readlines = [line.strip() for line in f]\n",
    "# print (readlines)"
   ]
  },
  {
   "cell_type": "markdown",
   "metadata": {},
   "source": [
    "### Practice problem 2a \n",
    "\n",
    "In the cell below, write out in words the major operational steps required to solve **Practice problem 2b**.\n",
    ">In the cell below, write a function that translates an ORF in an input DNA sequence. Alert  the user if no valid ORF is found. Your function can be built to expect one ORF per input sequence, and in the case of nested ORFs return the protein product of the largest ORF. Demonstrate the functionality of your code on an input sequence of your own creation."
   ]
  },
  {
   "cell_type": "markdown",
   "metadata": {},
   "source": [
    "*  Define function that takes DNA sequence, codon table as inputs\n",
    "*  Build dictionary of codon:amino acid pairings\n",
    "*  Check input sequence for valid ORFs\n",
    "*  Process sequence and translate ORF"
   ]
  },
  {
   "cell_type": "markdown",
   "metadata": {},
   "source": [
    "### Practice problem 2b\n",
    "In the cell below, write a function that translates an ORF in an input DNA sequence. Alert  the user if no valid ORF is found. Your function can be built to expect one ORF per input sequence, and in the case of nested ORFs return the protein product of the largest ORF. Demonstrate the functionality of your code on an input sequence of your own creation."
   ]
  },
  {
   "cell_type": "code",
   "execution_count": null,
   "metadata": {},
   "outputs": [],
   "source": []
  },
  {
   "cell_type": "markdown",
   "metadata": {},
   "source": [
    "### Practice problem 3\n",
    "Create a new Python script containing the functions from **Probem 1b** and **Problem 2b**, ORF_utils.py, in the same directory as this notebook. Import ORF_utils.py as a module, and use its functions to identify and translate any ORFs present in plasmid.fa. Print the returns from each function."
   ]
  },
  {
   "cell_type": "code",
   "execution_count": null,
   "metadata": {},
   "outputs": [],
   "source": []
  }
 ],
 "metadata": {
  "kernelspec": {
   "display_name": "Python 3",
   "language": "python",
   "name": "python3"
  },
  "language_info": {
   "codemirror_mode": {
    "name": "ipython",
    "version": 3
   },
   "file_extension": ".py",
   "mimetype": "text/x-python",
   "name": "python",
   "nbconvert_exporter": "python",
   "pygments_lexer": "ipython3",
   "version": "3.7.6"
  }
 },
 "nbformat": 4,
 "nbformat_minor": 4
}
