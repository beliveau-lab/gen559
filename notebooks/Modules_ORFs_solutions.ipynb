{
 "cells": [
  {
   "cell_type": "markdown",
   "metadata": {},
   "source": [
    "# Gen559 modules practice: ORFs\n",
    "### 2020.11.18"
   ]
  },
  {
   "cell_type": "markdown",
   "metadata": {},
   "source": [
    "*For the problems in this notebook, you will need two input files that can be downloaded from Canvas and https://github.com/beliveau-lab/gen559/tree/main/notebooks: codons.txt and plasmid.fa"
   ]
  },
  {
   "cell_type": "markdown",
   "metadata": {},
   "source": [
    "### Practice problem 1a \n",
    "\n",
    "In the cell below, write out in words the major operational steps required to solve **Practice problem 1b**.\n",
    ">In the cell below, write a function that finds open reading frames (ORFs) in an input DNA sequence. Your code only needs to consider the sense / + strand and should return a list with any ORFs found and their lengths in amino acids. Alert  the user if no valid ORFs are found. Demonstrate the functionality of your code on an input sequence of your own creation. Hint: open reading frames are contiguous stretches of DNA that code for proteins using triplet codons, starting with ATG and ending with a stop codon."
   ]
  },
  {
   "cell_type": "markdown",
   "metadata": {},
   "source": [
    "*  Define function that takes a block of DNA sequence as input\n",
    "*  Search input DNA sequence for the presence of start codons and in-frame stop codons\n",
    "*  Record the positions of any ORFs in the input, alert user if none found\n",
    "*  Return any identified ORFs and their lengths"
   ]
  },
  {
   "cell_type": "markdown",
   "metadata": {},
   "source": [
    "### Practice problem 1b\n",
    "In the cell below, write a function that finds open reading frames (ORFs) in an input DNA sequence. Your code only needs to consider the sense / + strand and should return a list with any ORFs found and their lengths in amino acids. Alert  the user if no valid ORFs are found. Demonstrate the functionality of your code on an input sequence of your own creation. *Hint: open reading frames are contiguous stretches of DNA that code for proteins using triplet codons, starting with ATG and ending with a stop codon*."
   ]
  },
  {
   "cell_type": "code",
   "execution_count": 1,
   "metadata": {},
   "outputs": [
    {
     "name": "stdout",
     "output_type": "stream",
     "text": [
      "['ATGCAAAAACAAGGGTAA\\t5.0']\n",
      "Warning, no valid ORFs found!\n"
     ]
    }
   ],
   "source": [
    "def get_ORFs(seq):\n",
    "    '''Identifies ORFs in input DNA sequence and returns the positions and lengths of any found'''\n",
    "    \n",
    "    # Create a list to hold function return.\n",
    "    output_list = []\n",
    "    \n",
    "    ## Iterate through input sequence, looking for valid ORFs.\n",
    "    \n",
    "    # Create variable to keep track of index in sequence.\n",
    "    idx = 0\n",
    "    \n",
    "    # Loop through input DNA sequence in windows of 3 nt.\n",
    "    for i in range(idx, len(seq)-2, 1):\n",
    "        window = seq[i:i+3]\n",
    "        \n",
    "        # Check if current window is a start codon.\n",
    "        if window == \"ATG\":\n",
    "            \n",
    "            # If so, search for a stop codon.\n",
    "            for j in range(i, len(seq), 3):\n",
    "                current_codon = seq[j:j+3]\n",
    "                if current_codon in [\"TGA\", \"TAA\", \"TAG\"]:\n",
    "                    \n",
    "                    # If found, add ORF info to output list.\n",
    "                    ORF_seq = seq[i:j+3]\n",
    "                    AA_len = len(ORF_seq)/ 3 - 1\n",
    "\n",
    "                    # Only report if protein is >1 AA:\n",
    "                    if AA_len > 1: \n",
    "                        output_list.append('%s\\t%s' % (ORF_seq, AA_len))\n",
    "\n",
    "                    # Update idx variable.\n",
    "                    idx = i\n",
    "                    \n",
    "                    # break loop\n",
    "                    break\n",
    "                                           \n",
    "    # Check if output list is empty:\n",
    "    if len(output_list) == 0:\n",
    "        return 'Warning, no valid ORFs found!'\n",
    "    \n",
    "    # If not, return list of ORFs their lengths.   \n",
    "    else:\n",
    "        return output_list\n",
    "\n",
    "    \n",
    "# Create simple test sequences for function. seq1 has an ORF, seq2 does not.\n",
    "seq1 = 'ATGCAAAAACAAGGGTAACAT'\n",
    "seq2 = 'AACCAATGGAATA'\n",
    "# Call the get_ORFs function on the test inputs.\n",
    "print(get_ORFs(seq1))\n",
    "print(get_ORFs(seq2))"
   ]
  },
  {
   "cell_type": "markdown",
   "metadata": {},
   "source": [
    "### Practice problem 2a \n",
    "\n",
    "In the cell below, write out in words the major operational steps required to solve **Practice problem 2b**.\n",
    ">In the cell below, write a function that translates an ORF in an input DNA sequence. Alert  the user if no valid ORF is found. Your function can be built to expect one ORF per input sequence, and in the case of nested ORFs return the protein product of the largest ORF. Demonstrate the functionality of your code on an input sequence of your own creation."
   ]
  },
  {
   "cell_type": "markdown",
   "metadata": {},
   "source": [
    "*  Define function that takes DNA sequence, codon table as inputs\n",
    "*  Build dictionary of codon:amino acid pairings\n",
    "*  Check input sequence for valid ORFs\n",
    "*  Process sequence and translate ORF"
   ]
  },
  {
   "cell_type": "markdown",
   "metadata": {},
   "source": [
    "### Practice problem 2b\n",
    "In the cell below, write a function that translates an ORF in an input DNA sequence. Alert  the user if no valid ORF is found. Your function can be built to expect one ORF per input sequence, and in the case of nested ORFs return the protein product of the largest ORF. Demonstrate the functionality of your code on an input sequence of your own creation."
   ]
  },
  {
   "cell_type": "code",
   "execution_count": 2,
   "metadata": {
    "scrolled": true
   },
   "outputs": [
    {
     "name": "stdout",
     "output_type": "stream",
     "text": [
      "MQPK\n",
      "Warning, input sequence is not a valid ORF\n"
     ]
    }
   ],
   "source": [
    "def translate_ORF(seq, codon_table='codons.txt'):\n",
    "    '''Translates an input DNA sequence using a provided codon table'''\n",
    "    \n",
    "    ## Check input sequence for a valid ORF.\n",
    "    \n",
    "    # Check that seq begins with a start codon, ends with a stop codon,\n",
    "    # and that the length of the sequence is a clean multiple of 3 using modulo '%' division.\n",
    "    if seq[0:3] == 'ATG' and seq[-3:] in [\"TGA\", \"TAA\", \"TAG\"] and len(seq) % 3 == 0:\n",
    "        \n",
    "        ## If true, build codon:amino acid dictionary and translate ORF.\n",
    "        \n",
    "        # Make list to hold output.\n",
    "        protein = []\n",
    "        \n",
    "        # Open codon table, extract contents.\n",
    "        with open(codon_table, 'r') as f:\n",
    "            codon_info = [line.strip() for line in f]\n",
    "        \n",
    "        # Create empty dictionary to hold codon:amino acid information.\n",
    "        codon_dict = {}\n",
    "        \n",
    "        # Populate dictionary from input codon table.\n",
    "        for i in range(0, len(codon_info), 1):\n",
    "            codon_dict[codon_info[i].split('\\t')[0]] = codon_info[i].split('\\t')[2]\n",
    "        \n",
    "        # Process input sequence and translate using codon_dict.\n",
    "        for i in range(0, len(seq)-2, 3):\n",
    "            codon_seq = seq[i:i+3]\n",
    "            \n",
    "            # Check if current codon is a stop codon, break loop if so.\n",
    "            if codon_dict[codon_seq] == '0':\n",
    "                break\n",
    "            \n",
    "            # Else, add the amino acid corresponding to the current codon to the protein list.\n",
    "            else:\n",
    "                protein.append(codon_dict[codon_seq])\n",
    "            \n",
    "        # Return the translated protein as a string.        \n",
    "        return ''.join(protein)\n",
    "            \n",
    "    \n",
    "    # If not true, return warning message\n",
    "    else:\n",
    "        return('Warning, input sequence is not a valid ORF')\n",
    "    \n",
    "    \n",
    "# Create some simple test ORFs. ORF1 is a valid ORF, ORF2 is not.\n",
    "ORF1 = 'ATGCAACCCAAATAA'\n",
    "ORF2 = 'CATCATCATTAA'\n",
    "\n",
    "# Call the translate_ORF function on the test inputs.\n",
    "print(translate_ORF(ORF1))\n",
    "print(translate_ORF(ORF2))"
   ]
  },
  {
   "cell_type": "markdown",
   "metadata": {},
   "source": [
    "### Practice problem 3\n",
    "Create a new Python script containing the functions from **Probem 1b** and **Problem 2b**, ORF_utils.py, in the same directory as this notebook. Import ORF_utils.py as a module, and use its functions to identify and translate any ORFs present in plasmid.fa. Print the returns from each function."
   ]
  },
  {
   "cell_type": "code",
   "execution_count": 3,
   "metadata": {
    "scrolled": false
   },
   "outputs": [
    {
     "name": "stdout",
     "output_type": "stream",
     "text": [
      "ATGTACCCATACGATGTTCCAGATTACGCTGAATTCGGAAAGAAAACCAAGCGGACAGCTGACAGTTCTTCTTCAGAGGATGAGGAGGAGTATGTTGTGGAGAAGGTGCTAGACAGGCGCGTGGTTAAGGGACAAGTGGAATATCTACTGAAGTGGAAAGGCTTTTCTGAGGAGCACAATACTTGGGAACCTGAGAAAAACTTGGATTGCCCTGAGCTAATTTCTGAATTTATGAAAAAGTATAAGAAGATGAAGGAGGGTGAAAATAATAAACCCAGGGAGAAGTCAGAAAGTAACAAGAGGAAATCCAATTTCTCAAACAGTGCCGATGACATCAAATCTAAAAAAAAGAGAGAGCAGAGCAATGATATCGCTCGGGGCTTTGAGAGAGGACTGGAACCAGAAAAGATCATTGGGGCAACAGATTCCTGTGGTGATTTAATGTTCCTAATGAAATGGAAAGACACAGATGAAGCTGACCTGGTTCTTGCAAAAGAAGCTAATGTGAAATGTCCACAAATTGTGATAGCATTTTATGAAGAGAGACTGACATGGCATGCATATCCTGAGGATGCGGAAAACAAAGAGAAAGAAACAGCAAAGAGCTAA\t202.0\n",
      "ATGTTCCAGATTACGCTGAATTCGGAAAGAAAACCAAGCGGACAGCTGACAGTTCTTCTTCAGAGGATGAGGAGGAGTATGTTGTGGAGAAGGTGCTAG\t32.0\n",
      "ATGAGGAGGAGTATGTTGTGGAGAAGGTGCTAG\t10.0\n",
      "ATGTTGTGGAGAAGGTGCTAG\t6.0\n",
      "ATGAAAAAGTATAAGAAGATGAAGGAGGGTGAAAATAATAAACCCAGGGAGAAGTCAGAAAGTAACAAGAGGAAATCCAATTTCTCAAACAGTGCCGATGACATCAAATCTAAAAAAAAGAGAGAGCAGAGCAATGATATCGCTCGGGGCTTTGAGAGAGGACTGGAACCAGAAAAGATCATTGGGGCAACAGATTCCTGTGGTGATTTAATGTTCCTAATGAAATGGAAAGACACAGATGAAGCTGACCTGGTTCTTGCAAAAGAAGCTAATGTGAAATGTCCACAAATTGTGATAGCATTTTATGAAGAGAGACTGACATGGCATGCATATCCTGAGGATGCGGAAAACAAAGAGAAAGAAACAGCAAAGAGCTAA\t125.0\n",
      "ATGAAGGAGGGTGAAAATAATAAACCCAGGGAGAAGTCAGAAAGTAACAAGAGGAAATCCAATTTCTCAAACAGTGCCGATGACATCAAATCTAAAAAAAAGAGAGAGCAGAGCAATGATATCGCTCGGGGCTTTGAGAGAGGACTGGAACCAGAAAAGATCATTGGGGCAACAGATTCCTGTGGTGATTTAATGTTCCTAATGAAATGGAAAGACACAGATGAAGCTGACCTGGTTCTTGCAAAAGAAGCTAATGTGAAATGTCCACAAATTGTGATAGCATTTTATGAAGAGAGACTGACATGGCATGCATATCCTGAGGATGCGGAAAACAAAGAGAAAGAAACAGCAAAGAGCTAA\t119.0\n",
      "ATGACATCAAATCTAAAAAAAAGAGAGAGCAGAGCAATGATATCGCTCGGGGCTTTGAGAGAGGACTGGAACCAGAAAAGATCATTGGGGCAACAGATTCCTGTGGTGATTTAA\t37.0\n",
      "ATGATATCGCTCGGGGCTTTGAGAGAGGACTGGAACCAGAAAAGATCATTGGGGCAACAGATTCCTGTGGTGATTTAA\t25.0\n",
      "ATGTTCCTAATGAAATGGAAAGACACAGATGAAGCTGACCTGGTTCTTGCAAAAGAAGCTAATGTGAAATGTCCACAAATTGTGATAGCATTTTATGAAGAGAGACTGACATGGCATGCATATCCTGAGGATGCGGAAAACAAAGAGAAAGAAACAGCAAAGAGCTAA\t55.0\n",
      "ATGAAATGGAAAGACACAGATGAAGCTGACCTGGTTCTTGCAAAAGAAGCTAATGTGAAATGTCCACAAATTGTGATAGCATTTTATGAAGAGAGACTGACATGGCATGCATATCCTGAGGATGCGGAAAACAAAGAGAAAGAAACAGCAAAGAGCTAA\t52.0\n",
      "ATGGAAAGACACAGATGA\t5.0\n",
      "ATGAAGCTGACCTGGTTCTTGCAAAAGAAGCTAATGTGA\t12.0\n",
      "ATGTCCACAAATTGTGATAGCATTTTATGA\t9.0\n",
      "ATGAAGAGAGACTGA\t4.0\n",
      "ATGGCATGCATATCCTGA\t5.0\n",
      "MYPYDVPDYAEFGKKTKRTADSSSSEDEEEYVVEKVLDRRVVKGQVEYLLKWKGFSEEHNTWEPEKNLDCPELISEFMKKYKKMKEGENNKPREKSESNKRKSNFSNSADDIKSKKKREQSNDIARGFERGLEPEKIIGATDSCGDLMFLMKWKDTDEADLVLAKEANVKCPQIVIAFYEERLTWHAYPEDAENKEKETAKS\n",
      "MFQITLNSERKPSGQLTVLLQRMRRSMLWRRC\n",
      "MRRSMLWRRC\n",
      "MLWRRC\n",
      "MKKYKKMKEGENNKPREKSESNKRKSNFSNSADDIKSKKKREQSNDIARGFERGLEPEKIIGATDSCGDLMFLMKWKDTDEADLVLAKEANVKCPQIVIAFYEERLTWHAYPEDAENKEKETAKS\n",
      "MKEGENNKPREKSESNKRKSNFSNSADDIKSKKKREQSNDIARGFERGLEPEKIIGATDSCGDLMFLMKWKDTDEADLVLAKEANVKCPQIVIAFYEERLTWHAYPEDAENKEKETAKS\n",
      "MTSNLKKRESRAMISLGALREDWNQKRSLGQQIPVVI\n",
      "MISLGALREDWNQKRSLGQQIPVVI\n",
      "MFLMKWKDTDEADLVLAKEANVKCPQIVIAFYEERLTWHAYPEDAENKEKETAKS\n",
      "MKWKDTDEADLVLAKEANVKCPQIVIAFYEERLTWHAYPEDAENKEKETAKS\n",
      "MERHR\n",
      "MKLTWFLQKKLM\n",
      "MSTNCDSIL\n",
      "MKRD\n",
      "MACIS\n"
     ]
    }
   ],
   "source": [
    "# Import ORF_utils module\n",
    "import ORF_utils\n",
    "\n",
    "# Open input .fa sequence and extract DNA sequence.\n",
    "with open('plasmid.fa', 'r') as f:\n",
    "    fasta_seq = [line.strip() for line in f][1]\n",
    "\n",
    "# Call the get_ORFs function from ORF_utils.py.\n",
    "fasta_ORFs = ORF_utils.get_ORFs(fasta_seq)\n",
    "\n",
    "# Print result of get_ORFs function call.\n",
    "print ('\\n'.join(fasta_ORFs))\n",
    "\n",
    "# Call the translate_ORF function from ORF_utils.py on the ORFs found in the plasmid.fa sequence, print each return.\n",
    "for i in range(0, len(fasta_ORFs), 1):\n",
    "    seq_to_translate = fasta_ORFs[i].split('\\t')[0]\n",
    "    print(ORF_utils.translate_ORF(seq_to_translate))"
   ]
  }
 ],
 "metadata": {
  "kernelspec": {
   "display_name": "Python 3",
   "language": "python",
   "name": "python3"
  },
  "language_info": {
   "codemirror_mode": {
    "name": "ipython",
    "version": 3
   },
   "file_extension": ".py",
   "mimetype": "text/x-python",
   "name": "python",
   "nbconvert_exporter": "python",
   "pygments_lexer": "ipython3",
   "version": "3.7.6"
  }
 },
 "nbformat": 4,
 "nbformat_minor": 4
}
