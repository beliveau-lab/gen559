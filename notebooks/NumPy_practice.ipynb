{
 "cells": [
  {
   "cell_type": "markdown",
   "metadata": {},
   "source": [
    "# Gen559 NumPy practice notebook\n",
    "### 2020.11.25"
   ]
  },
  {
   "cell_type": "markdown",
   "metadata": {},
   "source": [
    "### Practice problem 1a \n",
    "\n",
    "In the cell below, write out in words the major operational steps required to solve *Practice problem 1b*.\n",
    ">The file *gm12878.vcf* contains information about genetic variation in a cell line that is part of the [HapMap Project](https://www.coriell.org/1/NIGMS/Collections/HapMap-project?gclid=CjwKCAiA2O39BRBjEiwApB2IklG_xOJwN12uISiqhihv2xu2U8GJc1dPvd1pvLLcsZurn2iksDxkUxoCieAQAvD_BwE). \n",
    "\n",
    ">The format of the file is: CHROM \\t POS \\t ID \\t REF \\t ALT \\t QUAL \\t FILTER \\t INFO \\t FORMAT \\t NA12878\n",
    "\n",
    ">*CHROM = chromosome; POS = position; REF = allele in reference genome; ALT = alternate allele*\n",
    "\n",
    ">* In the cell below, write a function that calculates the mean, median, and standard deviation for distances between single nucleotide variants (SNVs) on a specified chromosome.\n",
    ">* Use NumPy to calculate the requested summary statistics.\n",
    ">* Be sure to avoid header lines beginging with '#'\n",
    ">* The file also contains infomration about indels, advoid these lines too. Only consider SNVs in your calculations."
   ]
  },
  {
   "cell_type": "markdown",
   "metadata": {},
   "source": [
    "* \n",
    "* \n",
    "* \n",
    "* \n",
    "* "
   ]
  },
  {
   "attachments": {},
   "cell_type": "markdown",
   "metadata": {},
   "source": [
    "### Practice problem 1b\n",
    "\n",
    "The file *gm12878.vcf* contains information about genetic variation in a cell line that is part of the [HapMap Project](https://www.coriell.org/1/NIGMS/Collections/HapMap-project?gclid=CjwKCAiA2O39BRBjEiwApB2IklG_xOJwN12uISiqhihv2xu2U8GJc1dPvd1pvLLcsZurn2iksDxkUxoCieAQAvD_BwE). \n",
    "\n",
    "The format of the file is: CHROM \\t POS \\t ID \\t REF \\t ALT \\t QUAL \\t FILTER \\t INFO \\t FORMAT \\t NA12878\n",
    "\n",
    "*CHROM = chromosome; POS = position; REF = allele in reference genome; ALT = alternate allele*\n",
    "\n",
    "* In the cell below, write a function that calculates the mean, median, and standard deviation for distances between single nucleotide variants (SNVs) on a specified chromosome.\n",
    "* Use NumPy to calculate the requested summary statistics.\n",
    "* Be sure to avoid header lines beginging with '#'\n",
    "* The file also contains infomration about indels, advoid these lines too. Only consider SNVs in your calculations."
   ]
  },
  {
   "cell_type": "code",
   "execution_count": null,
   "metadata": {},
   "outputs": [],
   "source": []
  },
  {
   "cell_type": "markdown",
   "metadata": {},
   "source": [
    "### Practice problem 2\n",
    "\n",
    "* Use NumPy to write and print a 3 x 4 matrix of zeros.\n",
    "* Roll and round a random number generator 12 times to make a list of 0/1 values. Print your list.\n",
    "* Update your original matrix using the following coordiante transformations: list[0] = matrix[0][0], list[4] = matrix[1][0], etc.\n",
    "* Print the updated matrix."
   ]
  },
  {
   "cell_type": "code",
   "execution_count": null,
   "metadata": {},
   "outputs": [],
   "source": []
  }
 ],
 "metadata": {
  "kernelspec": {
   "display_name": "Python 3",
   "language": "python",
   "name": "python3"
  },
  "language_info": {
   "codemirror_mode": {
    "name": "ipython",
    "version": 3
   },
   "file_extension": ".py",
   "mimetype": "text/x-python",
   "name": "python",
   "nbconvert_exporter": "python",
   "pygments_lexer": "ipython3",
   "version": "3.7.6"
  }
 },
 "nbformat": 4,
 "nbformat_minor": 4
}
