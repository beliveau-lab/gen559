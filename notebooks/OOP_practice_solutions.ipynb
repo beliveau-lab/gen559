{
 "cells": [
  {
   "cell_type": "markdown",
   "metadata": {},
   "source": [
    "# Gen559 OOP practice notebook\n",
    "### 2020.11.23"
   ]
  },
  {
   "cell_type": "markdown",
   "metadata": {},
   "source": [
    "### Practice problem 1a \n",
    "\n",
    "In the cell below, write out in words the major operational steps required to solve *Practice problem 1b*.\n",
    ">In the cell below, copy the code block above to import the **Date** class from the lecture slides. Add a year data member to the Date class:\n",
    ">\n",
    ">Allow the class constructor to get an additional argument denoting the year\n",
    "If the year is not provided in the constructor, the class should assume it is 2020 (Hint: remember the default value option in function definition)\n",
    "When printing in US format, print all 4 digits of the year. When printing in UK format, print only the last 2 digits.(Hint: str(x) will convert an integer X into a string)"
   ]
  },
  {
   "cell_type": "markdown",
   "metadata": {},
   "source": [
    "* Add year argument to class constructor\n",
    "* Add 2020 as a default value to the year argument\n",
    "* Modify the printUS() and printUK() methods to incoroporate year as indicated\n",
    "* Contrive some example inputs and test/print results"
   ]
  },
  {
   "cell_type": "code",
   "execution_count": 1,
   "metadata": {},
   "outputs": [
    {
     "name": "stdout",
     "output_type": "stream",
     "text": [
      "Jan / 15\n",
      "22 . Nov\n"
     ]
    }
   ],
   "source": [
    "class Date:\n",
    "    def __init__(self, day, month):\n",
    "        self.day = day\n",
    "        self.month = month\n",
    "    def printUS(self):\n",
    "        print(self.month , \"/\" , self.day)\n",
    "    def printUK(self):\n",
    "        print(self.day , \".\" , self.month)\n",
    "\n",
    "mydate = Date(15, \"Jan\")\n",
    "mydate.printUS()\n",
    "mydate2 = Date(22, \"Nov\")\n",
    "mydate2.printUK()\n"
   ]
  },
  {
   "cell_type": "markdown",
   "metadata": {},
   "source": [
    "### Practice problem 1b \n",
    "\n",
    "In the cell below, copy the code block above to import the **Date** class from the lecture slides. Add a year data member to the Date class:\n",
    "\n",
    "* Allow the class constructor to get an additional argument denoting the year\n",
    "* If the year is not provided in the constructor, the class should assume it is 2020 (*Hint: remember the default value option in function definition*)\n",
    "* When printing in US format, print all 4 digits of the year. When printing in UK format, print only the last 2 digits.(*Hint: str(x) will convert an integer X into a string*)"
   ]
  },
  {
   "cell_type": "code",
   "execution_count": 2,
   "metadata": {},
   "outputs": [
    {
     "name": "stdout",
     "output_type": "stream",
     "text": [
      "Mar / 17 / 2019\n",
      "17 . Mar . 19\n",
      "\n",
      "\n",
      "Nov / 23 / 2020\n",
      "23 . Nov . 20\n"
     ]
    }
   ],
   "source": [
    "class Date:\n",
    "    \n",
    "    '''Initialize a Date class with day, month, year'''\n",
    "    def __init__(self, day, month, year=2020):\n",
    "        self.day = day\n",
    "        self.month = month\n",
    "        self.year = year\n",
    "\n",
    "    def printUS(self):\n",
    "        '''Date class method to print date in US format month/day/year'''\n",
    "        print(self.month, \"/\", self.day, \"/\", self.year)\n",
    "    \n",
    "    def printUK(self):\n",
    "        '''Date class method to print date in UK formaat day.month.year'''\n",
    "        print(self.day , \".\" , self.month, \".\", str(self.year)[2:])\n",
    "\n",
    "# Create some test inputs.        \n",
    "date1 = Date(17, \"Mar\", 2019)\n",
    "date2 = Date(23, \"Nov\")\n",
    "\n",
    "# Test date1\n",
    "date1.printUS()\n",
    "date1.printUK()\n",
    "\n",
    "# Print newline\n",
    "print('\\n')\n",
    "\n",
    "# Test date2\n",
    "date2.printUS()\n",
    "date2.printUK()"
   ]
  },
  {
   "cell_type": "markdown",
   "metadata": {},
   "source": [
    "### Practice problem 2 \n",
    "\n",
    "* In the cell below, change the **Date** class such that the month is represented as a number rather than as a string.\n",
    "\n",
    "* Add the function *addMonths(n)* to the class Date. This function should add n months to the current date. Make sure to correctly handle transitions across years. (*Hint: the modulo operator, %, returns the remainder in division: 8 % 3 = 2*)"
   ]
  },
  {
   "cell_type": "code",
   "execution_count": 3,
   "metadata": {},
   "outputs": [
    {
     "name": "stdout",
     "output_type": "stream",
     "text": [
      "12 . 3 . 17\n",
      "12 . 5 . 17\n",
      "\n",
      "\n",
      "5 . 12 . 20\n",
      "5 . 7 . 21\n"
     ]
    }
   ],
   "source": [
    "class Date:\n",
    "    \n",
    "    '''Initialize a Date class with day, month, year'''\n",
    "    def __init__(self, day, month, year=2020):\n",
    "        self.day = day\n",
    "        self.month = month\n",
    "        self.year = year\n",
    "\n",
    "    def printUS(self):\n",
    "        '''Date class method to print date in US format month/day/year'''\n",
    "        print(self.month, \"/\", self.day, \"/\", self.year)\n",
    "    \n",
    "    def printUK(self):\n",
    "        '''Date class method to print date in UK formaat day.month.year'''\n",
    "        print(self.day , \".\" , self.month, \".\", str(self.year)[2:])\n",
    "        \n",
    "    def addMonths(self, n=1):\n",
    "        '''Date class method to update current month by n months'''\n",
    "        new_mon = self.month + n\n",
    "        self.year += (new_mon-1) // 12\n",
    "        self.month = (new_mon-1) % 12 + 1\n",
    "\n",
    "# Create some test inputs.\n",
    "date3 = Date(12, 3, 2017)\n",
    "date4 = Date(5, 12, 2020)\n",
    "\n",
    "# Test date 3.\n",
    "date3.printUK()\n",
    "date3.addMonths(2)\n",
    "date3.printUK()\n",
    "\n",
    "# Print newline\n",
    "print('\\n')\n",
    "\n",
    "# Test date 4.\n",
    "date4.printUK()\n",
    "date4.addMonths(7)\n",
    "date4.printUK()\n"
   ]
  },
  {
   "cell_type": "markdown",
   "metadata": {},
   "source": [
    "### Practice problem 3 \n",
    "\n",
    "* In the cell below, Write a Python class called HL, which will be used to include a horizontal line when you print. \n",
    "\n",
    "* The class constructor should get a string s  and an integer l and when printed it should print l repetitions of the string s (*and the necessary newline characters*)."
   ]
  },
  {
   "cell_type": "code",
   "execution_count": 4,
   "metadata": {},
   "outputs": [
    {
     "name": "stdout",
     "output_type": "stream",
     "text": [
      "\n",
      "__________________________________________________\n",
      "\n",
      "\n",
      "\n",
      "Title\n",
      "\n",
      "**-**-**-**-**-**-**-**-**-**-**-**-**-**-**-**-**-**-**-**-**-**-**-**-**-\n",
      "\n",
      "This is more text\n"
     ]
    }
   ],
   "source": [
    "class HL:\n",
    "    '''Initialize a HL class that prints a line of text characters of a defined length'''\n",
    "    def __init__(self,str,len):\n",
    "        self.s = str\n",
    "        self.l = len\n",
    "   \n",
    "    def printHL(self):\n",
    "        '''HL class method that prints the specified HL pattern flanked by newlines for printing'''\n",
    "        line = self.s * self.l\n",
    "        print ('\\n' + str(line) + '\\n')\n",
    "\n",
    "\n",
    "# Create a test input.\n",
    "hl1 = HL('_', 50)\n",
    "\n",
    "# Print to see results.\n",
    "hl1.printHL()\n",
    "\n",
    "# Print newline.\n",
    "print('\\n')\n",
    "\n",
    "# Create another test input.\n",
    "hl2 = HL('**-', 25)\n",
    "\n",
    "# Print to see results.\n",
    "print('Title')\n",
    "hl2.printHL()\n",
    "print('This is more text')\n"
   ]
  }
 ],
 "metadata": {
  "kernelspec": {
   "display_name": "Python 3",
   "language": "python",
   "name": "python3"
  },
  "language_info": {
   "codemirror_mode": {
    "name": "ipython",
    "version": 3
   },
   "file_extension": ".py",
   "mimetype": "text/x-python",
   "name": "python",
   "nbconvert_exporter": "python",
   "pygments_lexer": "ipython3",
   "version": "3.7.6"
  }
 },
 "nbformat": 4,
 "nbformat_minor": 4
}
