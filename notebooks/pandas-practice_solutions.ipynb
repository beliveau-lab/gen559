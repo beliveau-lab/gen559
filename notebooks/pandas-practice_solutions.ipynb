{
 "cells": [
  {
   "cell_type": "markdown",
   "metadata": {},
   "source": [
    "# Gen559 pandas practice notebook\n",
    "### 2020.12.09"
   ]
  },
  {
   "cell_type": "markdown",
   "metadata": {},
   "source": [
    "### Practice problem 1 \n",
    "\n",
    "The file *3_probes.bed* contains information about hybridization probes in the format:\n",
    "\n",
    "```python\n",
    "'chromosome' + '\\t' + 'start' + '\\t' + 'stop' + '\\t' + 'sequence' + '\\t' + 'Tm'\n",
    "```\n",
    "\n",
    "* In the cell below, Use the *pandas.read_csv()* method to import the info from this file into Python as a DataFrame object.    \n",
    "          \n",
    "          \n",
    "* Assign column labels to the DataFrame based on the string above.\n",
    "       \n",
    "      \n",
    "* Print your DataFrame"
   ]
  },
  {
   "cell_type": "code",
   "execution_count": 4,
   "metadata": {},
   "outputs": [
    {
     "name": "stdout",
     "output_type": "stream",
     "text": [
      "   chromosome      start       stop  \\\n",
      "0        chr7  148845262  148845298   \n",
      "1        chr7  148845406  148845445   \n",
      "2        chr7  148845449  148845489   \n",
      "3        chr7  148845513  148845553   \n",
      "4        chr7  148845554  148845589   \n",
      "5        chr7  148845719  148845759   \n",
      "6        chr7  148845845  148845884   \n",
      "7        chr7  148846105  148846145   \n",
      "8        chr7  148846359  148846394   \n",
      "9        chr7  148846443  148846483   \n",
      "10       chr7  148846484  148846519   \n",
      "11       chr7  148846522  148846562   \n",
      "\n",
      "                                     sequence     Tm  \n",
      "0       CCCCATCCTTATTCCCTTTAAGAACGTTCTGATGGGC  42.85  \n",
      "1    ATAAGTCAGAGCTTTACAGAGGTGTCACCTAACAAAACGC  42.27  \n",
      "2   AATGACTAAGAATCATTCCAAGTGTCACCATCAAGACCACC  42.24  \n",
      "3   AGGATTATGTCTGTTGCTACTGGGATATCACTGACAAGTCT  42.12  \n",
      "4        TTGAAGCTCATATGTCACACAATCTCCAGAAGGCCT  42.22  \n",
      "5   ACTACATAGTGCAATTTTAATTCCAACTCGCTCTTTCCCCT  42.14  \n",
      "6    AGACTTTTGCCATTTTCTTCTCATCTTGCTGCAATCATGT  42.08  \n",
      "7   TCTTACCACATGGCTAATTCAAATTGGGGTTACAACAGTGA  42.26  \n",
      "8        AAAAGATGGACACCCTGAGGTCAATGATTTCCTCCC  42.63  \n",
      "9   TTACTACAACATGTTATGTTAACCAACCTCCCTAGTCCCGC  42.87  \n",
      "10       GCAATGAGCTCACAGAAGTCAGGATGTGCACAGGCT  45.79  \n",
      "11  ATCCTTCGCTGTTTCCATTCTTGGTTTAAGATTTCCGTTCT  42.49  \n"
     ]
    }
   ],
   "source": [
    "# Import pandas module\n",
    "import pandas as pd\n",
    "\n",
    "# Use read_csv() method to import input file.\n",
    "probe_info = pd.read_csv('3_probes.bed', sep='\\t', names=['chromosome', 'start', 'stop', 'sequence', 'Tm'])\n",
    "\n",
    "# Print DataFrame.\n",
    "print(probe_info)"
   ]
  },
  {
   "cell_type": "markdown",
   "metadata": {},
   "source": [
    "### Practice problem 2\n",
    "\n",
    "* In the cell below, create a function *get_GC()* that returns the GC% of an input DNA sequence.\n",
    "          \n",
    "          \n",
    "* Use the pandas *df.filter()* method to create a list of the sequences of the hybridization probes. *Hint: you can use the df.values.tolist() method on the DataFrame you create after filtering*\n",
    "           \n",
    "           \n",
    "* Call the *get_GC()* function on the list of probe sequences.\n",
    "           \n",
    "           \n",
    "* Use the *df.insert()* method to add a new 'GC%' column to your DataFrame."
   ]
  },
  {
   "cell_type": "code",
   "execution_count": 5,
   "metadata": {},
   "outputs": [
    {
     "name": "stdout",
     "output_type": "stream",
     "text": [
      "   chromosome      start       stop  \\\n",
      "0        chr7  148845262  148845298   \n",
      "1        chr7  148845406  148845445   \n",
      "2        chr7  148845449  148845489   \n",
      "3        chr7  148845513  148845553   \n",
      "4        chr7  148845554  148845589   \n",
      "5        chr7  148845719  148845759   \n",
      "6        chr7  148845845  148845884   \n",
      "7        chr7  148846105  148846145   \n",
      "8        chr7  148846359  148846394   \n",
      "9        chr7  148846443  148846483   \n",
      "10       chr7  148846484  148846519   \n",
      "11       chr7  148846522  148846562   \n",
      "\n",
      "                                     sequence     Tm        GC  \n",
      "0       CCCCATCCTTATTCCCTTTAAGAACGTTCTGATGGGC  42.85  0.486486  \n",
      "1    ATAAGTCAGAGCTTTACAGAGGTGTCACCTAACAAAACGC  42.27  0.425000  \n",
      "2   AATGACTAAGAATCATTCCAAGTGTCACCATCAAGACCACC  42.24  0.414634  \n",
      "3   AGGATTATGTCTGTTGCTACTGGGATATCACTGACAAGTCT  42.12  0.414634  \n",
      "4        TTGAAGCTCATATGTCACACAATCTCCAGAAGGCCT  42.22  0.444444  \n",
      "5   ACTACATAGTGCAATTTTAATTCCAACTCGCTCTTTCCCCT  42.14  0.390244  \n",
      "6    AGACTTTTGCCATTTTCTTCTCATCTTGCTGCAATCATGT  42.08  0.375000  \n",
      "7   TCTTACCACATGGCTAATTCAAATTGGGGTTACAACAGTGA  42.26  0.390244  \n",
      "8        AAAAGATGGACACCCTGAGGTCAATGATTTCCTCCC  42.63  0.472222  \n",
      "9   TTACTACAACATGTTATGTTAACCAACCTCCCTAGTCCCGC  42.87  0.439024  \n",
      "10       GCAATGAGCTCACAGAAGTCAGGATGTGCACAGGCT  45.79  0.527778  \n",
      "11  ATCCTTCGCTGTTTCCATTCTTGGTTTAAGATTTCCGTTCT  42.49  0.390244  \n"
     ]
    }
   ],
   "source": [
    "# Create GC_content function.\n",
    "\n",
    "def get_GC(seq):\n",
    "    '''Takes in DNA sequence, returns GC% as a float'''\n",
    "    \n",
    "    # Return (count of C +  count of G) / length of seq. Use .upper() to make case-insensitive.\n",
    "    return float((seq.upper().count('C') + seq.upper().count('G')) / len(seq))\n",
    "\n",
    "\n",
    "# Use df.filter() method on 'sequence'.\n",
    "seqs_df = probe_info.filter(items=['sequence'])\n",
    "\n",
    "# Use df.values.tolist() method to extract seqs into list. Note this creates a list of lists.\n",
    "seqs_list = seqs_df.values.tolist()\n",
    "\n",
    "# Create and populate list of GC%s using get_GC() function.\n",
    "GCs = [float(get_GC(x[0])) for x in seqs_list]\n",
    "\n",
    "# Add GC content to DataFrame with the df.insert() method.\n",
    "probe_info.insert(5, \"GC\", GCs)\n",
    "\n",
    "# Print result.\n",
    "print(probe_info)"
   ]
  },
  {
   "cell_type": "markdown",
   "metadata": {},
   "source": [
    "### Practice problem 3\n",
    "        \n",
    "* In the cell below, use the *df.query()* method to create a new dataframe in which only probes with Tm > 42.5C and GC% > 45% are returned,\n",
    "       \n",
    "       \n",
    "* Print your results."
   ]
  },
  {
   "cell_type": "code",
   "execution_count": 6,
   "metadata": {
    "scrolled": true
   },
   "outputs": [
    {
     "name": "stdout",
     "output_type": "stream",
     "text": [
      "   chromosome      start       stop                               sequence  \\\n",
      "0        chr7  148845262  148845298  CCCCATCCTTATTCCCTTTAAGAACGTTCTGATGGGC   \n",
      "8        chr7  148846359  148846394   AAAAGATGGACACCCTGAGGTCAATGATTTCCTCCC   \n",
      "10       chr7  148846484  148846519   GCAATGAGCTCACAGAAGTCAGGATGTGCACAGGCT   \n",
      "\n",
      "       Tm        GC  \n",
      "0   42.85  0.486486  \n",
      "8   42.63  0.472222  \n",
      "10  45.79  0.527778  \n"
     ]
    }
   ],
   "source": [
    "# Create new df using df.query() method and specified conditions.\n",
    "filtered_probes = probe_info.query(\"Tm>42.5\" and \"GC>0.45\")\n",
    "\n",
    "# Print new DataFrame.\n",
    "print(filtered_probes)"
   ]
  },
  {
   "cell_type": "code",
   "execution_count": null,
   "metadata": {},
   "outputs": [],
   "source": []
  }
 ],
 "metadata": {
  "kernelspec": {
   "display_name": "Python 3",
   "language": "python",
   "name": "python3"
  },
  "language_info": {
   "codemirror_mode": {
    "name": "ipython",
    "version": 3
   },
   "file_extension": ".py",
   "mimetype": "text/x-python",
   "name": "python",
   "nbconvert_exporter": "python",
   "pygments_lexer": "ipython3",
   "version": "3.7.6"
  }
 },
 "nbformat": 4,
 "nbformat_minor": 4
}
