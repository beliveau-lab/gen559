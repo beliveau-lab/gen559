{
 "cells": [
  {
   "cell_type": "markdown",
   "metadata": {},
   "source": [
    "# Gen559 RE practice notebook\n",
    "### 2020.11.30"
   ]
  },
  {
   "attachments": {},
   "cell_type": "markdown",
   "metadata": {},
   "source": [
    "### Python RE sytnax quick reference\n",
    "\n",
    "| Syntax                                             | Description                                         |\n",
    "|----------------------------------------------------|-----------------------------------------------------|\n",
    "| ^                                                  | Matches the beginning of a line                     |\n",
    "| $                                                  | Matches the end of the line                         |\n",
    "| .                                                  | Matches any character                               |\n",
    "| \\s                                                 | Matches whitespace                                  |\n",
    "| \\S                                                 | Matches any non-whitespace character                |\n",
    "| *                                                  | Repeats a character zero or more times              |\n",
    "| *?                                                 | Repeats a character zero or more times (non-greedy) |\n",
    "| +                                                  | Repeats a character one or more times               |\n",
    "| +?                                                 | Repeats a character one or more times (non-greedy)  |\n",
    "| [aeiou]                                            | Matches a single character in the listed set        |\n",
    "| [^XYZ]                                             | Matches a single character not in the listed set    |\n",
    "| [a-z0-9] The set of characters can include a range |                                                     |\n",
    "| (                                                  | Indicates where string extraction is to start       |\n",
    "| )                                                  | Indicates where string extraction is to end         |\n",
    "|re.IGNORECASE                                       | Makes search case-insensitive                       |"
   ]
  },
  {
   "cell_type": "markdown",
   "metadata": {},
   "source": [
    "### Practice problem 1\n",
    "\n",
    "In the cell below, write function that uses a regular expression to return 'True' if the input matches only DNA sequences (case insensitive). Create test inputs and use print() to demonstrate the functionality of your code."
   ]
  },
  {
   "cell_type": "code",
   "execution_count": null,
   "metadata": {},
   "outputs": [],
   "source": []
  },
  {
   "cell_type": "markdown",
   "metadata": {},
   "source": [
    "### Practice problem 2\n",
    "\n",
    "In the cell below, write function that uses a regular expression to identify if an input string is DNA, RNA, or neither. Create test inputs and use print() to demonstrate the functionality of your code."
   ]
  },
  {
   "cell_type": "code",
   "execution_count": null,
   "metadata": {},
   "outputs": [],
   "source": []
  },
  {
   "cell_type": "markdown",
   "metadata": {},
   "source": [
    "### Practice problem 3\n",
    "\n",
    "In the cell below is a function to randomly generate a DNA sequence of a defined length (*from our first practice notebook*). \n",
    "\n",
    "* Generate 100 random 50mers\n",
    "* Write a function using re that scans for homopolymeric runs N+ A, C, G, or T bases. Run this function on your 100 random sequences and print how many have a homopolymeric run of >4 bases.\n",
    "* Write a function using the re that scans for the presence of ApoI sites(recognition site: 5' RAATTY 3'; R = A or G, i.e. a purine; Y = C or T, i.e. a pyrmidine). Run this function on your 100 random sequences and print how many have an ApoI site."
   ]
  },
  {
   "cell_type": "code",
   "execution_count": 6,
   "metadata": {},
   "outputs": [],
   "source": [
    "# Import random module.\n",
    "import random\n",
    "\n",
    "# Define the sequence generation function.\n",
    "def seq_generate(N):\n",
    "    \n",
    "    # This is a docstring, it provides a succinct description of what the function does.\n",
    "    \"\"\"This generates a random DNA sequence of length N bases.\"\"\"\n",
    "    \n",
    "    # Make a new list to hold growing sequence.\n",
    "    seq = []\n",
    "    \n",
    "    # Populate empty list one base at a time using random.random() function\n",
    "    while len(seq) < N:\n",
    "        random_val = random.random()\n",
    "        if random_val < 0.25:\n",
    "            seq.append(\"A\")\n",
    "        elif 0.25 <= random_val < 0.5:\n",
    "            seq.append(\"T\")\n",
    "        elif 0.5 <= random_val <0.75:\n",
    "            seq.append(\"C\")\n",
    "        else:\n",
    "            seq.append(\"G\")\n",
    "    \n",
    "    # Return random sequence as a string.\n",
    "    return ''.join(seq)\n",
    "\n"
   ]
  }
 ],
 "metadata": {
  "kernelspec": {
   "display_name": "Python 3",
   "language": "python",
   "name": "python3"
  },
  "language_info": {
   "codemirror_mode": {
    "name": "ipython",
    "version": 3
   },
   "file_extension": ".py",
   "mimetype": "text/x-python",
   "name": "python",
   "nbconvert_exporter": "python",
   "pygments_lexer": "ipython3",
   "version": "3.7.6"
  }
 },
 "nbformat": 4,
 "nbformat_minor": 4
}
