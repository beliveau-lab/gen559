{
 "cells": [
  {
   "cell_type": "markdown",
   "metadata": {},
   "source": [
    "Below in the variable 'mw_info' are the molecular weights for RNA (A, C, G, U) and DNA bases (dA, dC, dG, dT)"
   ]
  },
  {
   "cell_type": "code",
   "execution_count": 1,
   "metadata": {},
   "outputs": [],
   "source": [
    "mw_info = 'A\\t507.2\\nC\\t483.2\\nG\\t523.2\\nU\\t484.2\\ndA\\t491.2\\ndC\\t467.2\\ndG\\t507.2\\ndT\\t482.2'"
   ]
  },
  {
   "cell_type": "code",
   "execution_count": 2,
   "metadata": {
    "scrolled": true
   },
   "outputs": [
    {
     "name": "stdout",
     "output_type": "stream",
     "text": [
      "A\t507.2\n",
      "C\t483.2\n",
      "G\t523.2\n",
      "U\t484.2\n",
      "dA\t491.2\n",
      "dC\t467.2\n",
      "dG\t507.2\n",
      "dT\t482.2\n"
     ]
    }
   ],
   "source": [
    "print (mw_info)"
   ]
  },
  {
   "cell_type": "code",
   "execution_count": null,
   "metadata": {},
   "outputs": [],
   "source": []
  }
 ],
 "metadata": {
  "kernelspec": {
   "display_name": "Python 3",
   "language": "python",
   "name": "python3"
  },
  "language_info": {
   "codemirror_mode": {
    "name": "ipython",
    "version": 3
   },
   "file_extension": ".py",
   "mimetype": "text/x-python",
   "name": "python",
   "nbconvert_exporter": "python",
   "pygments_lexer": "ipython3",
   "version": "3.7.6"
  }
 },
 "nbformat": 4,
 "nbformat_minor": 4
}
